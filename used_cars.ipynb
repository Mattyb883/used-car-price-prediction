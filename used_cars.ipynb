{
 "cells": [
  {
   "cell_type": "markdown",
   "id": "650c2a8e-3aae-43c1-b5e3-62d15ae38848",
   "metadata": {},
   "source": [
    "# **Rusty Bargain - Used Car Price Prediction**\n",
    "\n",
    "## Predicting Used Car Prices with Machine Learning  \n",
    "\n",
    "### **Introduction**  \n",
    "The used car market is dynamic, with prices influenced by multiple factors such as **vehicle age, mileage, brand, fuel type, and condition**. For buyers and sellers, accurately determining a car’s market value is essential to ensure fair pricing.  \n",
    "\n",
    "Rusty Bargain, a used car sales service, aims to develop an **app that predicts car prices** based on historical data. This project focuses on **building and evaluating machine learning models** to estimate vehicle prices efficiently.  \n",
    "\n",
    "### **Project Goals**  \n",
    "Our objective is to develop a **high-performing model** that:  \n",
    "- **Accurately predicts car prices** (low RMSE).  \n",
    "- **Trains efficiently** to avoid excessive computational costs.  \n",
    "- **Generates predictions quickly** for real-time usability in the app.  \n",
    "\n",
    "To achieve this, we will **train, compare, and optimize multiple machine learning models**, including **Linear Regression, Decision Trees, Random Forest, LightGBM, XGBoost, and CatBoost**. After evaluating their performance, we will **select the best model for deployment** in Rusty Bargain’s application.  \n"
   ]
  },
  {
   "cell_type": "code",
   "execution_count": 1,
   "id": "a1ece8b9-3d32-43c3-a6b6-9fea3c4cd15e",
   "metadata": {
    "trusted": false
   },
   "outputs": [],
   "source": [
    "import pandas as pd\n",
    "from datetime import datetime\n"
   ]
  },
  {
   "cell_type": "code",
   "execution_count": 2,
   "id": "5e04ebf3-f6e2-41a8-bd38-df0f90cc57d8",
   "metadata": {
    "trusted": false
   },
   "outputs": [
    {
     "name": "stdout",
     "output_type": "stream",
     "text": [
      "<class 'pandas.core.frame.DataFrame'>\n",
      "RangeIndex: 354369 entries, 0 to 354368\n",
      "Data columns (total 16 columns):\n",
      " #   Column             Non-Null Count   Dtype \n",
      "---  ------             --------------   ----- \n",
      " 0   DateCrawled        354369 non-null  object\n",
      " 1   Price              354369 non-null  int64 \n",
      " 2   VehicleType        316879 non-null  object\n",
      " 3   RegistrationYear   354369 non-null  int64 \n",
      " 4   Gearbox            334536 non-null  object\n",
      " 5   Power              354369 non-null  int64 \n",
      " 6   Model              334664 non-null  object\n",
      " 7   Mileage            354369 non-null  int64 \n",
      " 8   RegistrationMonth  354369 non-null  int64 \n",
      " 9   FuelType           321474 non-null  object\n",
      " 10  Brand              354369 non-null  object\n",
      " 11  NotRepaired        283215 non-null  object\n",
      " 12  DateCreated        354369 non-null  object\n",
      " 13  NumberOfPictures   354369 non-null  int64 \n",
      " 14  PostalCode         354369 non-null  int64 \n",
      " 15  LastSeen           354369 non-null  object\n",
      "dtypes: int64(7), object(9)\n",
      "memory usage: 43.3+ MB\n"
     ]
    },
    {
     "data": {
      "text/html": [
       "<div>\n",
       "<style scoped>\n",
       "    .dataframe tbody tr th:only-of-type {\n",
       "        vertical-align: middle;\n",
       "    }\n",
       "\n",
       "    .dataframe tbody tr th {\n",
       "        vertical-align: top;\n",
       "    }\n",
       "\n",
       "    .dataframe thead th {\n",
       "        text-align: right;\n",
       "    }\n",
       "</style>\n",
       "<table border=\"1\" class=\"dataframe\">\n",
       "  <thead>\n",
       "    <tr style=\"text-align: right;\">\n",
       "      <th></th>\n",
       "      <th>DateCrawled</th>\n",
       "      <th>Price</th>\n",
       "      <th>VehicleType</th>\n",
       "      <th>RegistrationYear</th>\n",
       "      <th>Gearbox</th>\n",
       "      <th>Power</th>\n",
       "      <th>Model</th>\n",
       "      <th>Mileage</th>\n",
       "      <th>RegistrationMonth</th>\n",
       "      <th>FuelType</th>\n",
       "      <th>Brand</th>\n",
       "      <th>NotRepaired</th>\n",
       "      <th>DateCreated</th>\n",
       "      <th>NumberOfPictures</th>\n",
       "      <th>PostalCode</th>\n",
       "      <th>LastSeen</th>\n",
       "    </tr>\n",
       "  </thead>\n",
       "  <tbody>\n",
       "    <tr>\n",
       "      <th>0</th>\n",
       "      <td>24/03/2016 11:52</td>\n",
       "      <td>480</td>\n",
       "      <td>NaN</td>\n",
       "      <td>1993</td>\n",
       "      <td>manual</td>\n",
       "      <td>0</td>\n",
       "      <td>golf</td>\n",
       "      <td>150000</td>\n",
       "      <td>0</td>\n",
       "      <td>petrol</td>\n",
       "      <td>volkswagen</td>\n",
       "      <td>NaN</td>\n",
       "      <td>24/03/2016 00:00</td>\n",
       "      <td>0</td>\n",
       "      <td>70435</td>\n",
       "      <td>07/04/2016 03:16</td>\n",
       "    </tr>\n",
       "    <tr>\n",
       "      <th>1</th>\n",
       "      <td>24/03/2016 10:58</td>\n",
       "      <td>18300</td>\n",
       "      <td>coupe</td>\n",
       "      <td>2011</td>\n",
       "      <td>manual</td>\n",
       "      <td>190</td>\n",
       "      <td>NaN</td>\n",
       "      <td>125000</td>\n",
       "      <td>5</td>\n",
       "      <td>gasoline</td>\n",
       "      <td>audi</td>\n",
       "      <td>yes</td>\n",
       "      <td>24/03/2016 00:00</td>\n",
       "      <td>0</td>\n",
       "      <td>66954</td>\n",
       "      <td>07/04/2016 01:46</td>\n",
       "    </tr>\n",
       "    <tr>\n",
       "      <th>2</th>\n",
       "      <td>14/03/2016 12:52</td>\n",
       "      <td>9800</td>\n",
       "      <td>suv</td>\n",
       "      <td>2004</td>\n",
       "      <td>auto</td>\n",
       "      <td>163</td>\n",
       "      <td>grand</td>\n",
       "      <td>125000</td>\n",
       "      <td>8</td>\n",
       "      <td>gasoline</td>\n",
       "      <td>jeep</td>\n",
       "      <td>NaN</td>\n",
       "      <td>14/03/2016 00:00</td>\n",
       "      <td>0</td>\n",
       "      <td>90480</td>\n",
       "      <td>05/04/2016 12:47</td>\n",
       "    </tr>\n",
       "    <tr>\n",
       "      <th>3</th>\n",
       "      <td>17/03/2016 16:54</td>\n",
       "      <td>1500</td>\n",
       "      <td>small</td>\n",
       "      <td>2001</td>\n",
       "      <td>manual</td>\n",
       "      <td>75</td>\n",
       "      <td>golf</td>\n",
       "      <td>150000</td>\n",
       "      <td>6</td>\n",
       "      <td>petrol</td>\n",
       "      <td>volkswagen</td>\n",
       "      <td>no</td>\n",
       "      <td>17/03/2016 00:00</td>\n",
       "      <td>0</td>\n",
       "      <td>91074</td>\n",
       "      <td>17/03/2016 17:40</td>\n",
       "    </tr>\n",
       "    <tr>\n",
       "      <th>4</th>\n",
       "      <td>31/03/2016 17:25</td>\n",
       "      <td>3600</td>\n",
       "      <td>small</td>\n",
       "      <td>2008</td>\n",
       "      <td>manual</td>\n",
       "      <td>69</td>\n",
       "      <td>fabia</td>\n",
       "      <td>90000</td>\n",
       "      <td>7</td>\n",
       "      <td>gasoline</td>\n",
       "      <td>skoda</td>\n",
       "      <td>no</td>\n",
       "      <td>31/03/2016 00:00</td>\n",
       "      <td>0</td>\n",
       "      <td>60437</td>\n",
       "      <td>06/04/2016 10:17</td>\n",
       "    </tr>\n",
       "  </tbody>\n",
       "</table>\n",
       "</div>"
      ],
      "text/plain": [
       "        DateCrawled  Price VehicleType  RegistrationYear Gearbox  Power  \\\n",
       "0  24/03/2016 11:52    480         NaN              1993  manual      0   \n",
       "1  24/03/2016 10:58  18300       coupe              2011  manual    190   \n",
       "2  14/03/2016 12:52   9800         suv              2004    auto    163   \n",
       "3  17/03/2016 16:54   1500       small              2001  manual     75   \n",
       "4  31/03/2016 17:25   3600       small              2008  manual     69   \n",
       "\n",
       "   Model  Mileage  RegistrationMonth  FuelType       Brand NotRepaired  \\\n",
       "0   golf   150000                  0    petrol  volkswagen         NaN   \n",
       "1    NaN   125000                  5  gasoline        audi         yes   \n",
       "2  grand   125000                  8  gasoline        jeep         NaN   \n",
       "3   golf   150000                  6    petrol  volkswagen          no   \n",
       "4  fabia    90000                  7  gasoline       skoda          no   \n",
       "\n",
       "        DateCreated  NumberOfPictures  PostalCode          LastSeen  \n",
       "0  24/03/2016 00:00                 0       70435  07/04/2016 03:16  \n",
       "1  24/03/2016 00:00                 0       66954  07/04/2016 01:46  \n",
       "2  14/03/2016 00:00                 0       90480  05/04/2016 12:47  \n",
       "3  17/03/2016 00:00                 0       91074  17/03/2016 17:40  \n",
       "4  31/03/2016 00:00                 0       60437  06/04/2016 10:17  "
      ]
     },
     "execution_count": 2,
     "metadata": {},
     "output_type": "execute_result"
    }
   ],
   "source": [
    "# Load the dataset\n",
    "file_path = \"/datasets/car_data.csv\"\n",
    "df = pd.read_csv(file_path)\n",
    "\n",
    "# Display basic info\n",
    "df.info()\n",
    "df.head()"
   ]
  },
  {
   "cell_type": "code",
   "execution_count": 3,
   "id": "ee8f539d-085c-481e-a97c-128770b4db61",
   "metadata": {
    "trusted": false
   },
   "outputs": [
    {
     "data": {
      "text/plain": [
       "VehicleType    37490\n",
       "Gearbox        19833\n",
       "Model          19705\n",
       "FuelType       32895\n",
       "NotRepaired    71154\n",
       "dtype: int64"
      ]
     },
     "execution_count": 3,
     "metadata": {},
     "output_type": "execute_result"
    }
   ],
   "source": [
    "# Count missing values in each column\n",
    "missing_values = df.isnull().sum()\n",
    "\n",
    "# Display only columns with missing values\n",
    "missing_values[missing_values > 0]\n"
   ]
  },
  {
   "cell_type": "markdown",
   "id": "31611cc4-dd97-49a6-95eb-013285cb697a",
   "metadata": {},
   "source": [
    "### Dataset Overview\n",
    "- **Total Rows:** 354,369  \n",
    "- **Total Columns:** 16  \n",
    "- **Target Variable:** `Price` (integer)  \n",
    "\n",
    "### Feature Types\n",
    "**Numerical Features:**\n",
    "  - `Price` (Target)\n",
    "  - `Power` (Horsepower of the vehicle)\n",
    "  - `Mileage` (Miles driven)\n",
    "  - `RegistrationYear` (Year of registration)\n",
    "  - `RegistrationMonth` (Month of registration)\n",
    "  - `NumberOfPictures` (Always 0, likely not useful)\n",
    "  - `PostalCode` (Might not be useful for price prediction)\n",
    "\n",
    "**Categorical Features:**\n",
    "  - `VehicleType` (Body type)\n",
    "  - `Gearbox` (Transmission type: manual/auto)\n",
    "  - `Model` (Car model)\n",
    "  - `FuelType` (Petrol, Diesel, etc.)\n",
    "  - `Brand` (Car brand)\n",
    "  - `NotRepaired` (Indicates if the car has been repaired)\n",
    "\n",
    "**Date-related Features:**\n",
    "  - `DateCrawled` (When the ad was scraped)\n",
    "  - `DateCreated` (When the ad was created)\n",
    "  - `LastSeen` (Last activity on the ad)\n",
    "\n",
    "### Issues Identified\n",
    "**1. Missing Values**\n",
    "\n",
    "| Feature         | Missing Values |\n",
    "|----------------|---------------|\n",
    "| `VehicleType`  | 37,490 |\n",
    "| `Gearbox`      | 19,833 |\n",
    "| `Model`        | 19,705 |\n",
    "| `FuelType`     | 32,895 |\n",
    "| `NotRepaired`  | 71,154 |\n",
    "\n",
    "**2. Potential Data Cleaning Needs**\n",
    "- **`RegistrationYear`**: May contain unrealistic values. Needs checking.\n",
    "- **`Power`**: Possible outliers (e.g., 0 HP may not be valid).\n",
    "- **`NumberOfPictures`**: Always 0, likely not useful.\n",
    "- **`PostalCode`**: Unclear if it helps in price prediction.\n",
    "- **Date Columns (`DateCrawled`, `DateCreated`, `LastSeen`)**: Might need transformation or removal.\n",
    "\n"
   ]
  },
  {
   "cell_type": "code",
   "execution_count": 4,
   "id": "8fda857f-2aa6-40ca-9e9e-c1f58f86d49e",
   "metadata": {
    "trusted": false
   },
   "outputs": [],
   "source": [
    "# Fill missing values for categorical features with \"unknown\"\n",
    "df.fillna({\"VehicleType\": \"unknown\", \n",
    "           \"Model\": \"unknown\", \n",
    "           \"FuelType\": \"unknown\", \n",
    "           \"NotRepaired\": \"unknown\"}, inplace=True)\n"
   ]
  },
  {
   "cell_type": "code",
   "execution_count": 5,
   "id": "62161671-192a-4abc-816a-25d861c93b02",
   "metadata": {
    "trusted": false
   },
   "outputs": [],
   "source": [
    "# Fill missing values for 'Gearbox' with the most frequent value (mode)\n",
    "df.fillna({\"Gearbox\": df[\"Gearbox\"].mode()[0]}, inplace=True)\n"
   ]
  },
  {
   "cell_type": "code",
   "execution_count": 6,
   "id": "68625a29-26c8-43d9-8a65-1849490a3ec0",
   "metadata": {
    "trusted": false
   },
   "outputs": [],
   "source": [
    "# Check if any missing values remain\n",
    "missing_values_after = df.isnull().sum()\n"
   ]
  },
  {
   "cell_type": "code",
   "execution_count": 7,
   "id": "9f21b998-7f98-4c49-aa6b-a3bd35dd8a42",
   "metadata": {
    "trusted": false
   },
   "outputs": [
    {
     "name": "stdout",
     "output_type": "stream",
     "text": [
      "Total missing values: 0\n"
     ]
    }
   ],
   "source": [
    "# Check for mising values\n",
    "print(\"Total missing values:\", df.isnull().sum().sum())\n"
   ]
  },
  {
   "cell_type": "markdown",
   "id": "4cf212a7-51f5-4154-9ec3-ebdd45b313b8",
   "metadata": {},
   "source": [
    "### We have handled the missing values in our dataset\n",
    "- Categorical columns (VehicleType, Model, FuelType, NotRepaired): Fill missing values with \"unknown\" to retain information without dropping data.<br>\n",
    "- Binary categorical (Gearbox): Fill with the most frequent value (mode) since it's likely to be a small number of categories."
   ]
  },
  {
   "cell_type": "code",
   "execution_count": 8,
   "id": "ce7e56f3-dd86-4e86-91dc-90a94e4efb48",
   "metadata": {
    "trusted": false
   },
   "outputs": [],
   "source": [
    "# Get the current year\n",
    "current_year = datetime.now().year\n"
   ]
  },
  {
   "cell_type": "code",
   "execution_count": 9,
   "id": "fea61471-18a4-4d2f-a434-c1998637604e",
   "metadata": {
    "trusted": false
   },
   "outputs": [],
   "source": [
    "# Filter 'RegistrationYear' to keep values between 1900 and current year (2024)\n",
    "df = df[(df[\"RegistrationYear\"] >= 1900) & (df[\"RegistrationYear\"] <= current_year)]\n"
   ]
  },
  {
   "cell_type": "code",
   "execution_count": 10,
   "id": "16ba966c-0709-42f4-ba61-4dd091b7127b",
   "metadata": {
    "trusted": false
   },
   "outputs": [],
   "source": [
    "# Filter 'Power' to keep values between 1 and 500 HP\n",
    "df = df[(df[\"Power\"] >= 1) & (df[\"Power\"] <= 500)]\n"
   ]
  },
  {
   "cell_type": "code",
   "execution_count": 11,
   "id": "0078166b-2516-4f57-8661-e2005c476b1e",
   "metadata": {
    "trusted": false
   },
   "outputs": [
    {
     "data": {
      "text/plain": [
       "((1910, 2019), (1, 500))"
      ]
     },
     "execution_count": 11,
     "metadata": {},
     "output_type": "execute_result"
    }
   ],
   "source": [
    "# Verify the changes by checking min and max values after filtering\n",
    "registration_year_range = (df[\"RegistrationYear\"].min(), df[\"RegistrationYear\"].max())\n",
    "power_range = (df[\"Power\"].min(), df[\"Power\"].max())\n",
    "\n",
    "registration_year_range, power_range\n"
   ]
  },
  {
   "cell_type": "markdown",
   "id": "8ee94b07-3448-47a1-90a7-78c0556299d1",
   "metadata": {},
   "source": [
    "### Updated Ranges\n",
    "- RegistrationYear: Now between 1910 - 2019 (previously had unrealistic values).<br>\n",
    "- Power: Now between 1 - 500 HP (no more 0 HP or extreme values).\n"
   ]
  },
  {
   "cell_type": "code",
   "execution_count": 12,
   "id": "78f71497-2e68-4a7b-bce6-ca823d00bc29",
   "metadata": {
    "trusted": false
   },
   "outputs": [],
   "source": [
    "# Columns to drop:\n",
    "columns_to_drop = [\"NumberOfPictures\", \"PostalCode\", \"DateCrawled\", \"DateCreated\", \"LastSeen\"]\n"
   ]
  },
  {
   "cell_type": "code",
   "execution_count": 13,
   "id": "063c4486-d2ee-4d80-890b-c19bad28e219",
   "metadata": {
    "trusted": false
   },
   "outputs": [],
   "source": [
    "# Drop columns\n",
    "df.drop(columns=columns_to_drop, inplace=True)\n"
   ]
  },
  {
   "cell_type": "code",
   "execution_count": 14,
   "id": "bcea526e-c8ec-4e4e-8740-ef5dd57c1494",
   "metadata": {
    "trusted": false
   },
   "outputs": [
    {
     "data": {
      "text/plain": [
       "Index(['Price', 'VehicleType', 'RegistrationYear', 'Gearbox', 'Power', 'Model',\n",
       "       'Mileage', 'RegistrationMonth', 'FuelType', 'Brand', 'NotRepaired'],\n",
       "      dtype='object')"
      ]
     },
     "execution_count": 14,
     "metadata": {},
     "output_type": "execute_result"
    }
   ],
   "source": [
    "# Verify remaining columns\n",
    "df.columns"
   ]
  },
  {
   "cell_type": "markdown",
   "id": "13e54085-1a9d-470d-a9cf-0e6ce21b5752",
   "metadata": {},
   "source": [
    "### Unecessary columns have been removed\n",
    "\n",
    "During data preprocessing, we removed several columns that were irrelevant to predicting car prices. These columns did not provide useful information for the model and could introduce noise, increasing computation time without improving accuracy.\n",
    "\n",
    "Columns Removed & Reasons:\n",
    "DateCrawled, DateCreated, LastSeen: Timestamp columns, not relevant for price prediction.\n",
    "NumberOfPictures: Always had the same value (not useful for model training).\n",
    "PostalCode: Does not directly impact car price and could introduce location-based bias.\n",
    "\n",
    "By removing these unnecessary features, we: \n",
    "- Reduced dataset complexity\n",
    "- Improved model efficiency\n",
    "- Prevented overfitting on irrelevant data\n",
    "\n",
    "This step ensured that our model focused only on the most important attributes affecting car prices.\n"
   ]
  },
  {
   "cell_type": "markdown",
   "id": "50e3679f-ad03-4e5a-9ecf-25105ba8e3e2",
   "metadata": {},
   "source": [
    "### For LightGBM & CatBoost\n",
    "- Converted categorical features to category type (so they can be handled natively).<br>\n",
    "- For Models Requiring Numeric Features (Linear Regression, Random Forest, XGBoost)<br>\n",
    "- Applied One-Hot Encoding (OHE) to categorical columns.<br>\n",
    "- The dataset expanded from 11 columns → 311 columns (because of OHE dummy variables)."
   ]
  },
  {
   "cell_type": "code",
   "execution_count": 15,
   "id": "532f9d40",
   "metadata": {
    "trusted": false
   },
   "outputs": [],
   "source": [
    "from sklearn.model_selection import train_test_split\n",
    "from sklearn.preprocessing import StandardScaler\n",
    "import pandas as pd\n"
   ]
  },
  {
   "cell_type": "code",
   "execution_count": 16,
   "id": "815a04d3",
   "metadata": {
    "trusted": false
   },
   "outputs": [],
   "source": [
    "# Identify numerical and categorical features\n",
    "numerical_features = [\"RegistrationYear\", \"Power\", \"Mileage\", \"RegistrationMonth\"]\n",
    "categorical_features = [\"VehicleType\", \"Gearbox\", \"Model\", \"FuelType\", \"Brand\", \"NotRepaired\"]\n"
   ]
  },
  {
   "cell_type": "code",
   "execution_count": 17,
   "id": "fa1e34fa",
   "metadata": {
    "trusted": false
   },
   "outputs": [],
   "source": [
    "# Split dataset BEFORE encoding and scaling\n",
    "X_train, X_test, y_train, y_test = train_test_split(\n",
    "    df.drop(columns=[\"Price\"]), df[\"Price\"], test_size=0.2, random_state=42\n",
    ")\n"
   ]
  },
  {
   "cell_type": "code",
   "execution_count": 18,
   "id": "c77319a0",
   "metadata": {
    "trusted": false
   },
   "outputs": [],
   "source": [
    "# Apply One-Hot Encoding on training & test sets separately\n",
    "X_train_encoded = pd.get_dummies(X_train, columns=categorical_features, drop_first=True)\n",
    "X_test_encoded = pd.get_dummies(X_test, columns=categorical_features, drop_first=True)\n"
   ]
  },
  {
   "cell_type": "code",
   "execution_count": 19,
   "id": "1bd6637a",
   "metadata": {
    "trusted": false
   },
   "outputs": [],
   "source": [
    "# Ensure both train and test sets have the same columns\n",
    "X_test_encoded = X_test_encoded.reindex(columns=X_train_encoded.columns, fill_value=0)\n"
   ]
  },
  {
   "cell_type": "code",
   "execution_count": 20,
   "id": "cdac1cd3",
   "metadata": {
    "trusted": false
   },
   "outputs": [],
   "source": [
    "# Apply Feature Scaling ONLY on numerical features\n",
    "scaler = StandardScaler()\n",
    "\n",
    "X_train_encoded[numerical_features] = scaler.fit_transform(X_train_encoded[numerical_features])\n",
    "X_test_encoded[numerical_features] = scaler.transform(X_test_encoded[numerical_features])\n"
   ]
  },
  {
   "cell_type": "code",
   "execution_count": 21,
   "id": "7202086a",
   "metadata": {
    "trusted": false
   },
   "outputs": [
    {
     "name": "stdout",
     "output_type": "stream",
     "text": [
      "Preprocessing complete. Checking data types:\n",
      "RegistrationYear           float64\n",
      "Power                      float64\n",
      "Mileage                    float64\n",
      "RegistrationMonth          float64\n",
      "VehicleType_convertible      uint8\n",
      "                            ...   \n",
      "Brand_trabant                uint8\n",
      "Brand_volkswagen             uint8\n",
      "Brand_volvo                  uint8\n",
      "NotRepaired_unknown          uint8\n",
      "NotRepaired_yes              uint8\n",
      "Length: 310, dtype: object\n"
     ]
    }
   ],
   "source": [
    "# Final verification\n",
    "print(\"Preprocessing complete. Checking data types:\")\n",
    "print(X_train_encoded.dtypes)\n"
   ]
  },
  {
   "cell_type": "markdown",
   "id": "b9d854cb",
   "metadata": {},
   "source": [
    "### Data Preprocessing: Feature Scaling & One-Hot Encoding\n",
    "To prepare the dataset for machine learning, we applied Feature Scaling and One-Hot Encoding (OHE) after splitting the data to prevent data leakage.\n",
    "\n",
    "- Feature Scaling and One-Hot Encoding are applied after splitting → No data leakage\n",
    "- Train and Test sets have matching features → No missing columns\n",
    "- Models are trained only on X_train_encoded → Correct dataset usage\n",
    "- Test set is never used during training → Proper evaluation\n",
    "\n",
    "**Final Dataset**\n",
    "- **Fully numeric** and ready for model training.\n",
    "- **No data leakage**—test data was transformed separately.\n"
   ]
  },
  {
   "cell_type": "code",
   "execution_count": 22,
   "id": "2d80d124",
   "metadata": {
    "trusted": false
   },
   "outputs": [],
   "source": [
    "from sklearn.linear_model import LinearRegression\n",
    "from sklearn.metrics import mean_squared_error\n",
    "import numpy as np\n",
    "import time\n"
   ]
  },
  {
   "cell_type": "code",
   "execution_count": 23,
   "id": "7c7b3993",
   "metadata": {
    "trusted": false
   },
   "outputs": [],
   "source": [
    "# Initialize Linear Regression model\n",
    "lin_reg = LinearRegression()\n"
   ]
  },
  {
   "cell_type": "code",
   "execution_count": 24,
   "id": "5f277bd0",
   "metadata": {
    "trusted": false
   },
   "outputs": [
    {
     "name": "stdout",
     "output_type": "stream",
     "text": [
      "Train Set Shape: (250921, 310) (250921,)\n",
      "Test Set Shape: (62731, 310) (62731,)\n"
     ]
    }
   ],
   "source": [
    "# Train-Test Split Verification (Sanity Check)\n",
    "print(\"Train Set Shape:\", X_train_encoded.shape, y_train.shape)\n",
    "print(\"Test Set Shape:\", X_test_encoded.shape, y_test.shape)\n"
   ]
  },
  {
   "cell_type": "code",
   "execution_count": 25,
   "id": "43380cc8",
   "metadata": {
    "trusted": false
   },
   "outputs": [],
   "source": [
    "# Measure training time\n",
    "start_train = time.time()\n",
    "lin_reg.fit(X_train_encoded, y_train)\n",
    "training_time = time.time() - start_train\n"
   ]
  },
  {
   "cell_type": "code",
   "execution_count": 26,
   "id": "ca6fc138",
   "metadata": {
    "trusted": false
   },
   "outputs": [],
   "source": [
    "# Measure prediction time\n",
    "start_predict = time.time()\n",
    "y_pred = lin_reg.predict(X_test_encoded)\n",
    "prediction_time = time.time() - start_predict\n"
   ]
  },
  {
   "cell_type": "code",
   "execution_count": 27,
   "id": "49438fb2",
   "metadata": {
    "trusted": false
   },
   "outputs": [],
   "source": [
    "# Calculate RMSE\n",
    "rmse = np.sqrt(mean_squared_error(y_test, y_pred))\n"
   ]
  },
  {
   "cell_type": "code",
   "execution_count": 28,
   "id": "2ddb5470",
   "metadata": {
    "trusted": false
   },
   "outputs": [
    {
     "name": "stdout",
     "output_type": "stream",
     "text": [
      "Linear Regression RMSE: 2647.61\n",
      "Training Time: 9.4130 sec\n",
      "Prediction Time: 0.1035 sec\n"
     ]
    }
   ],
   "source": [
    "# Output results\n",
    "print(f\"Linear Regression RMSE: {rmse:.2f}\")\n",
    "print(f\"Training Time: {training_time:.4f} sec\")\n",
    "print(f\"Prediction Time: {prediction_time:.4f} sec\")\n"
   ]
  },
  {
   "cell_type": "markdown",
   "id": "587d8484-63f2-42de-9e08-30e63b215322",
   "metadata": {},
   "source": [
    "### Sanity Check Results\n",
    "RMSE (Root Mean Squared Error) = 2647.61<br>\n",
    "Training Time:  9.3952 sec\n",
    "PRediction Time: 0.0330 sec\n",
    "- Train Set Shape: (250,921 samples, 310 features)<br>\n",
    "- Test Set Shape: (62,731 samples, 310 features)<br>\n",
    "- The Linear Regression model is now fully trained and evaluated.<br>\n",
    "- RMSE (2647.61) serves as our baseline—we will now compare this with more advanced models.<br>\n",
    "\n",
    "If future models don’t perform better than 2647.61 RMSE, something might be wrong."
   ]
  },
  {
   "cell_type": "code",
   "execution_count": 29,
   "id": "95c2caf5-d497-4f48-930e-3d0d81f1752b",
   "metadata": {
    "trusted": false
   },
   "outputs": [],
   "source": [
    "from sklearn.tree import DecisionTreeRegressor\n",
    "from sklearn.metrics import mean_squared_error\n",
    "import numpy as np\n",
    "import time\n"
   ]
  },
  {
   "cell_type": "code",
   "execution_count": 30,
   "id": "b3ecd1c1-9d38-4d29-a388-14c968b6bede",
   "metadata": {
    "trusted": false
   },
   "outputs": [],
   "source": [
    "# Initialize Decision Tree model\n",
    "dt_model = DecisionTreeRegressor(random_state=42)\n"
   ]
  },
  {
   "cell_type": "code",
   "execution_count": 31,
   "id": "a16a4940-4742-4dfc-987f-1062d0a78ea8",
   "metadata": {
    "trusted": false
   },
   "outputs": [],
   "source": [
    "# Measure training time\n",
    "start_train = time.time()\n",
    "dt_model.fit(X_train_encoded, y_train)\n",
    "training_time = time.time() - start_train\n"
   ]
  },
  {
   "cell_type": "code",
   "execution_count": 32,
   "id": "f4844104",
   "metadata": {
    "trusted": false
   },
   "outputs": [],
   "source": [
    "# Measure prediction time\n",
    "start_predict = time.time()\n",
    "y_pred = dt_model.predict(X_test_encoded)\n",
    "prediction_time = time.time() - start_predict\n"
   ]
  },
  {
   "cell_type": "code",
   "execution_count": 33,
   "id": "7f7d9f08",
   "metadata": {
    "trusted": false
   },
   "outputs": [],
   "source": [
    "# Calculate RMSE\n",
    "rmse = np.sqrt(mean_squared_error(y_test, y_pred))\n"
   ]
  },
  {
   "cell_type": "code",
   "execution_count": 34,
   "id": "c076907c",
   "metadata": {
    "trusted": false
   },
   "outputs": [
    {
     "name": "stdout",
     "output_type": "stream",
     "text": [
      "Decision Tree RMSE: 2111.67\n",
      "Training Time: 4.6758 sec\n",
      "Prediction Time: 0.0776 sec\n"
     ]
    }
   ],
   "source": [
    "# Output results\n",
    "print(f\"Decision Tree RMSE: {rmse:.2f}\")\n",
    "print(f\"Training Time: {training_time:.4f} sec\")\n",
    "print(f\"Prediction Time: {prediction_time:.4f} sec\")\n"
   ]
  },
  {
   "cell_type": "markdown",
   "id": "5253c65e-9c94-45f8-8d33-18babf94c321",
   "metadata": {},
   "source": [
    "### Decision Tree Results\n",
    "RMSE: 2111.67<br>\n",
    "Training Time: 4.6927 sec<br>\n",
    "Prediction Time: 0.0670 sec\n",
    "- Decision Tree performed better than Linear Regression (lower RMSE). \n",
    "- Shows non-linear patterns in the data.\n",
    "- Decision Tree trained faster but had a slightly slower prediction time then Linear Regression."
   ]
  },
  {
   "cell_type": "code",
   "execution_count": 35,
   "id": "b0cfe553-f0d6-4f52-839a-d4353cdae662",
   "metadata": {
    "trusted": false
   },
   "outputs": [],
   "source": [
    "from sklearn.ensemble import RandomForestRegressor\n",
    "from sklearn.metrics import mean_squared_error\n",
    "import numpy as np\n",
    "import time\n"
   ]
  },
  {
   "cell_type": "code",
   "execution_count": 36,
   "id": "4cb82d9f-2073-46b9-9e80-fa2d565030de",
   "metadata": {
    "trusted": false
   },
   "outputs": [],
   "source": [
    "# Initialize Random Forest model\n",
    "rf_model = RandomForestRegressor(n_estimators=100, random_state=42, n_jobs=-1)\n"
   ]
  },
  {
   "cell_type": "code",
   "execution_count": 37,
   "id": "3a53b459-7ebf-467a-8ed7-7c03061c9031",
   "metadata": {
    "trusted": false
   },
   "outputs": [],
   "source": [
    "# Measure training time\n",
    "start_train = time.time()\n",
    "rf_model.fit(X_train_encoded, y_train)\n",
    "training_time = time.time() - start_train\n"
   ]
  },
  {
   "cell_type": "code",
   "execution_count": 38,
   "id": "380d7c1f",
   "metadata": {
    "trusted": false
   },
   "outputs": [],
   "source": [
    "# Measure prediction time\n",
    "start_predict = time.time()\n",
    "y_pred = rf_model.predict(X_test_encoded)\n",
    "prediction_time = time.time() - start_predict\n"
   ]
  },
  {
   "cell_type": "code",
   "execution_count": 39,
   "id": "533316e2",
   "metadata": {
    "trusted": false
   },
   "outputs": [],
   "source": [
    "# Calculate RMSE\n",
    "rmse = np.sqrt(mean_squared_error(y_test, y_pred))\n"
   ]
  },
  {
   "cell_type": "code",
   "execution_count": 40,
   "id": "da5f5a33",
   "metadata": {
    "trusted": false
   },
   "outputs": [
    {
     "name": "stdout",
     "output_type": "stream",
     "text": [
      "Random Forest RMSE: 1674.44\n",
      "Training Time: 291.9123 sec\n",
      "Prediction Time: 2.6858 sec\n"
     ]
    }
   ],
   "source": [
    "# Output results\n",
    "print(f\"Random Forest RMSE: {rmse:.2f}\")\n",
    "print(f\"Training Time: {training_time:.4f} sec\")\n",
    "print(f\"Prediction Time: {prediction_time:.4f} sec\")\n"
   ]
  },
  {
   "cell_type": "markdown",
   "id": "5df8e98f-6888-42c1-8846-8b638e213fa8",
   "metadata": {},
   "source": [
    "### Random Forest Results\n",
    "RMSE: 1674.59 (Best so far)<br>\n",
    "Training Time: 343.7247 sec (Significantly longer than Decision Tree)<br>\n",
    "Prediction Time: 2.7008 sec\n",
    "- Random Forest achieved the best RMSE so far! (lower than Decision Tree and Linear Regression).\n",
    "- Training took significantly longer (343 sec vs. 4.69 sec for Decision Tree).\n",
    "- Prediction time is slower than simpler models, but still reasonable.\n"
   ]
  },
  {
   "cell_type": "code",
   "execution_count": 41,
   "id": "91df23e9-c09a-4a95-9f20-5cf08efd4b10",
   "metadata": {
    "trusted": false
   },
   "outputs": [],
   "source": [
    "import lightgbm as lgb\n",
    "from sklearn.metrics import mean_squared_error\n",
    "import numpy as np\n",
    "import time\n"
   ]
  },
  {
   "cell_type": "code",
   "execution_count": 42,
   "id": "987c3ca0-3f98-4554-a838-ec41c8b56b2e",
   "metadata": {
    "trusted": false
   },
   "outputs": [],
   "source": [
    "# Initialize LightGBM model\n",
    "lgb_model = lgb.LGBMRegressor(random_state=42, n_jobs=-1)\n"
   ]
  },
  {
   "cell_type": "code",
   "execution_count": 43,
   "id": "9fcef110-ca02-4b98-83a8-9d2748ef48dd",
   "metadata": {
    "trusted": false
   },
   "outputs": [],
   "source": [
    "# Measure training time\n",
    "start_train = time.time()\n",
    "lgb_model.fit(X_train_encoded, y_train)\n",
    "training_time = time.time() - start_train\n"
   ]
  },
  {
   "cell_type": "code",
   "execution_count": 44,
   "id": "c9c0e40a",
   "metadata": {
    "trusted": false
   },
   "outputs": [],
   "source": [
    "# Measure prediction time\n",
    "start_predict = time.time()\n",
    "y_pred = lgb_model.predict(X_test_encoded)\n",
    "prediction_time = time.time() - start_predict\n"
   ]
  },
  {
   "cell_type": "code",
   "execution_count": 45,
   "id": "62546fcd",
   "metadata": {
    "trusted": false
   },
   "outputs": [],
   "source": [
    "# Calculate RMSE\n",
    "rmse = np.sqrt(mean_squared_error(y_test, y_pred))\n"
   ]
  },
  {
   "cell_type": "code",
   "execution_count": 46,
   "id": "715ec9a7",
   "metadata": {
    "trusted": false
   },
   "outputs": [
    {
     "name": "stdout",
     "output_type": "stream",
     "text": [
      "LightGBM RMSE: 1770.55\n",
      "Training Time: 4.2054 sec\n",
      "Prediction Time: 0.4950 sec\n"
     ]
    }
   ],
   "source": [
    "# Output results\n",
    "print(f\"LightGBM RMSE: {rmse:.2f}\")\n",
    "print(f\"Training Time: {training_time:.4f} sec\")\n",
    "print(f\"Prediction Time: {prediction_time:.4f} sec\")\n"
   ]
  },
  {
   "cell_type": "markdown",
   "id": "2f26995d-a78c-4924-b2ee-c9915556f59d",
   "metadata": {},
   "source": [
    "### LightGBM Results\n",
    "RMSE: 1770.55<br>\n",
    "Training Time: 5.4740 sec<br>\n",
    "Prediction Time: 0.4043 sec\n",
    "- LightGBM is significantly faster than Random Forest (5.47 sec vs. 343.72 sec).\n",
    "- Prediction time is also much faster than Random Forest.\n",
    "- RMSE is slightly worse than Random Forest but still competitive.\n"
   ]
  },
  {
   "cell_type": "code",
   "execution_count": 47,
   "id": "c679bc51-25bd-4fba-aeaf-173d7cd89077",
   "metadata": {
    "trusted": false
   },
   "outputs": [],
   "source": [
    "import xgboost as xgb\n",
    "from sklearn.metrics import mean_squared_error\n",
    "import numpy as np\n",
    "import time\n"
   ]
  },
  {
   "cell_type": "code",
   "execution_count": 48,
   "id": "f05c8014-fb7c-44bc-a916-38017907760d",
   "metadata": {
    "trusted": false
   },
   "outputs": [],
   "source": [
    "# Initialize XGBoost model\n",
    "xgb_model = xgb.XGBRegressor(objective=\"reg:squarederror\", random_state=42, n_jobs=-1)\n"
   ]
  },
  {
   "cell_type": "code",
   "execution_count": 49,
   "id": "9d9f8464-7035-4d9c-acd2-ada8048b50d5",
   "metadata": {
    "trusted": false
   },
   "outputs": [],
   "source": [
    "# Measure training time\n",
    "start_train = time.time()\n",
    "xgb_model.fit(X_train_encoded, y_train)\n",
    "training_time = time.time() - start_train\n"
   ]
  },
  {
   "cell_type": "code",
   "execution_count": 50,
   "id": "8cc9464d",
   "metadata": {
    "trusted": false
   },
   "outputs": [],
   "source": [
    "# Measure prediction time\n",
    "start_predict = time.time()\n",
    "y_pred = xgb_model.predict(X_test_encoded)\n",
    "prediction_time = time.time() - start_predict\n"
   ]
  },
  {
   "cell_type": "code",
   "execution_count": 51,
   "id": "31c46fea",
   "metadata": {
    "trusted": false
   },
   "outputs": [],
   "source": [
    "# Calculate RMSE\n",
    "rmse = np.sqrt(mean_squared_error(y_test, y_pred))\n"
   ]
  },
  {
   "cell_type": "code",
   "execution_count": 52,
   "id": "0064f10f",
   "metadata": {
    "trusted": false
   },
   "outputs": [
    {
     "name": "stdout",
     "output_type": "stream",
     "text": [
      "XGBoost RMSE: 1735.30\n",
      "Training Time: 294.3380 sec\n",
      "Prediction Time: 0.4805 sec\n"
     ]
    }
   ],
   "source": [
    "# Output results\n",
    "print(f\"XGBoost RMSE: {rmse:.2f}\")\n",
    "print(f\"Training Time: {training_time:.4f} sec\")\n",
    "print(f\"Prediction Time: {prediction_time:.4f} sec\")\n"
   ]
  },
  {
   "cell_type": "markdown",
   "id": "76cd720c-525d-45a2-ada1-b736c2f8baf7",
   "metadata": {},
   "source": [
    "### XGBoost Results\n",
    "RMSE: 1732.93<br>\n",
    "Training Time: 296.7752 sec<br>\n",
    "Prediction Time: 0.5431\n",
    "- XGBoost achieves a slightly better RMSE than LightGBM (1735.30 vs. 1770.55).\n",
    "- Training time is significantly longer than LightGBM (296 sec vs. 5.47 sec).\n",
    "- Prediction time is still fast, but slightly slower than LightGBM.\n"
   ]
  },
  {
   "cell_type": "code",
   "execution_count": 53,
   "id": "1977a39d-2ae3-49e7-83e1-f678a949dff3",
   "metadata": {
    "trusted": false
   },
   "outputs": [],
   "source": [
    "import catboost as cb\n",
    "from sklearn.metrics import mean_squared_error\n",
    "import numpy as np\n",
    "import time\n"
   ]
  },
  {
   "cell_type": "code",
   "execution_count": 54,
   "id": "a3a018dd-faef-4374-8932-97fa55728763",
   "metadata": {
    "trusted": false
   },
   "outputs": [],
   "source": [
    "# Initialize CatBoost model\n",
    "cb_model = cb.CatBoostRegressor(verbose=0, random_state=42)\n"
   ]
  },
  {
   "cell_type": "code",
   "execution_count": 55,
   "id": "ee36ff75-2f2e-4906-89c3-85a25bcbe282",
   "metadata": {
    "trusted": false
   },
   "outputs": [],
   "source": [
    "# Measure training time\n",
    "start_train = time.time()\n",
    "cb_model.fit(X_train_encoded, y_train)\n",
    "training_time = time.time() - start_train\n"
   ]
  },
  {
   "cell_type": "code",
   "execution_count": 56,
   "id": "53d5c5f8-72c9-44f1-a9c3-1d69c17f24de",
   "metadata": {
    "trusted": false
   },
   "outputs": [],
   "source": [
    "# Measure prediction time\n",
    "start_predict = time.time()\n",
    "y_pred = cb_model.predict(X_test_encoded)\n",
    "prediction_time = time.time() - start_predict\n"
   ]
  },
  {
   "cell_type": "code",
   "execution_count": 57,
   "id": "ab22984d",
   "metadata": {
    "trusted": false
   },
   "outputs": [],
   "source": [
    "# Calculate RMSE\n",
    "rmse = np.sqrt(mean_squared_error(y_test, y_pred))\n"
   ]
  },
  {
   "cell_type": "code",
   "execution_count": 58,
   "id": "52a2be6d",
   "metadata": {
    "trusted": false
   },
   "outputs": [
    {
     "name": "stdout",
     "output_type": "stream",
     "text": [
      "CatBoost RMSE: 1682.12\n",
      "Training Time: 25.0590 sec\n",
      "Prediction Time: 0.0712 sec\n"
     ]
    }
   ],
   "source": [
    "# Output results\n",
    "print(f\"CatBoost RMSE: {rmse:.2f}\")\n",
    "print(f\"Training Time: {training_time:.4f} sec\")\n",
    "print(f\"Prediction Time: {prediction_time:.4f} sec\")\n"
   ]
  },
  {
   "cell_type": "markdown",
   "id": "1f3e83b6-3cf3-4038-8b16-6feae0c1cb5e",
   "metadata": {},
   "source": [
    "### CatBoost Results\n",
    "RMSE: 1682.12<br>\n",
    "Training Time: 1.30 sec<br>\n",
    "Prediction TIme: 0.0827 sec\n",
    "- CatBoost achieved one of the lowest RMSE scores (1682.12), only slightly behind Random Forest (1674.44).\n",
    "- CatBoost training time (27.60 sec) is much faster than Random Forest (343.72 sec) and XGBoost (296.78 sec).\n",
    "- Prediction time for CatBoost (0.083 sec) is very fast, close to Decision Tree and LightGBM.\n"
   ]
  },
  {
   "cell_type": "code",
   "execution_count": 59,
   "id": "760ae6f9-1f43-45da-aec2-a1e06e1ce277",
   "metadata": {
    "trusted": false
   },
   "outputs": [],
   "source": [
    "from sklearn.ensemble import RandomForestRegressor\n",
    "from sklearn.metrics import mean_squared_error\n",
    "import time\n",
    "import numpy as np\n"
   ]
  },
  {
   "cell_type": "code",
   "execution_count": 60,
   "id": "cb45749e-df58-4711-99a1-27c055ecc330",
   "metadata": {
    "trusted": false
   },
   "outputs": [],
   "source": [
    "# Manually Tuned Hyperparameters for Random Forest\n",
    "best_rf_model = RandomForestRegressor(\n",
    "    n_estimators=300,         # Balanced number of trees (not too low, not too high)\n",
    "    max_depth=20,             # Limits tree depth to prevent overfitting\n",
    "    min_samples_split=5,      # Prevents overly complex splits\n",
    "    min_samples_leaf=2,       # Ensures leaves are not too small\n",
    "    random_state=42, \n",
    "    n_jobs=-1\n",
    ")\n"
   ]
  },
  {
   "cell_type": "code",
   "execution_count": 61,
   "id": "4cd0ea9e-66d8-455e-84a6-ebfbd1271a7b",
   "metadata": {
    "trusted": false
   },
   "outputs": [],
   "source": [
    "# Measure training time for the manually tuned Random Forest model\n",
    "start_train = time.time()\n",
    "best_rf_model.fit(X_train_encoded, y_train)\n",
    "training_time = time.time() - start_train\n"
   ]
  },
  {
   "cell_type": "code",
   "execution_count": 62,
   "id": "9862f12b-d9c9-4a89-b56f-0dae828d260d",
   "metadata": {
    "trusted": false
   },
   "outputs": [],
   "source": [
    "# Measure prediction time\n",
    "start_predict = time.time()\n",
    "rf_tuned_pred = best_rf_model.predict(X_test_encoded)\n",
    "prediction_time = time.time() - start_predict\n"
   ]
  },
  {
   "cell_type": "code",
   "execution_count": 63,
   "id": "728fec43-78d2-4df8-ad93-bd36435b7b22",
   "metadata": {
    "trusted": false
   },
   "outputs": [],
   "source": [
    "# Calculate RMSE\n",
    "rf_tuned_rmse = np.sqrt(mean_squared_error(y_test, rf_tuned_pred))\n"
   ]
  },
  {
   "cell_type": "code",
   "execution_count": 64,
   "id": "15df3d04",
   "metadata": {
    "trusted": false
   },
   "outputs": [
    {
     "name": "stdout",
     "output_type": "stream",
     "text": [
      "Tuned Random Forest RMSE: 1685.14\n",
      "Training Time: 737.72 sec\n",
      "Prediction Time: 3.8652 sec\n"
     ]
    }
   ],
   "source": [
    "# Output results\n",
    "print(f\"Tuned Random Forest RMSE: {rf_tuned_rmse:.2f}\")\n",
    "print(f\"Training Time: {training_time:.2f} sec\")\n",
    "print(f\"Prediction Time: {prediction_time:.4f} sec\")\n"
   ]
  },
  {
   "cell_type": "markdown",
   "id": "76643356-5c0b-42a5-b73d-5f0ee09c6b9e",
   "metadata": {},
   "source": [
    "### Tuned Random Forest Results\n",
    "Tuned RMSE: 1685.14<br>\n",
    "Training Time: 787.28 sec<br>\n",
    "Prediction TIme: 3.7071 sec\n",
    "- Tuned Random Forest performed slightly worse than the original Random Forest (1685.14 vs. 1674.44 RMSE).\n",
    "- Training time significantly increased (787 sec vs. 343 sec), meaning the hyperparameters increased complexity.\n",
    "- Prediction time is also longer (3.71 sec vs. 2.70 sec).\n",
    "- CatBoost still maintains strong performance with a lower training time and fast predictions."
   ]
  },
  {
   "cell_type": "code",
   "execution_count": 65,
   "id": "e648e5ca-19d6-45eb-8ee3-d6e2e1b17df4",
   "metadata": {
    "trusted": false
   },
   "outputs": [],
   "source": [
    "import pandas as pd\n"
   ]
  },
  {
   "cell_type": "code",
   "execution_count": 66,
   "id": "06cd850e-4a53-4e21-95d6-609057b5c409",
   "metadata": {
    "trusted": false
   },
   "outputs": [],
   "source": [
    "# Get feature importance from the trained Random Forest model\n",
    "feature_importance = pd.Series(best_rf_model.feature_importances_, index=X_train_encoded.columns)\n"
   ]
  },
  {
   "cell_type": "code",
   "execution_count": 67,
   "id": "3dc4d358-0aa5-40a0-a872-44f3b908225d",
   "metadata": {
    "trusted": false
   },
   "outputs": [],
   "source": [
    "# Sort feature importance in descending order\n",
    "feature_importance_sorted = feature_importance.sort_values(ascending=False)\n"
   ]
  },
  {
   "cell_type": "code",
   "execution_count": 68,
   "id": "10a99b63-25d0-41be-84ec-f77a099aa740",
   "metadata": {
    "trusted": false
   },
   "outputs": [
    {
     "name": "stdout",
     "output_type": "stream",
     "text": [
      "Top 15 Most Important Features in Random Forest:\n",
      "RegistrationYear           0.489185\n",
      "Power                      0.275910\n",
      "Mileage                    0.060235\n",
      "VehicleType_unknown        0.030916\n",
      "RegistrationMonth          0.018124\n",
      "VehicleType_convertible    0.013698\n",
      "Model_transporter          0.011319\n",
      "NotRepaired_yes            0.011020\n",
      "Brand_audi                 0.005706\n",
      "Brand_volkswagen           0.005583\n",
      "Brand_mercedes_benz        0.004812\n",
      "FuelType_gasoline          0.004448\n",
      "Brand_bmw                  0.004252\n",
      "Gearbox_manual             0.004155\n",
      "NotRepaired_unknown        0.003825\n",
      "dtype: float64\n"
     ]
    }
   ],
   "source": [
    "# Display the top 15 most important features\n",
    "top_15_features = feature_importance_sorted.head(15)\n",
    "print(\"Top 15 Most Important Features in Random Forest:\")\n",
    "print(top_15_features)\n"
   ]
  },
  {
   "cell_type": "code",
   "execution_count": 69,
   "id": "f1f6a6ba-2a00-48ce-8f6f-5a261983b5b3",
   "metadata": {
    "trusted": false
   },
   "outputs": [
    {
     "data": {
      "image/png": "[encoded data removed]",
      "text/plain": [
       "<Figure size 1000x600 with 1 Axes>"
      ]
     },
     "metadata": {},
     "output_type": "display_data"
    }
   ],
   "source": [
    "# Visualizing Feature Importance\n",
    "import matplotlib.pyplot as plt\n",
    "\n",
    "plt.figure(figsize=(10, 6))\n",
    "top_15_features.plot(kind='bar')\n",
    "plt.title(\"Top 15 Most Important Features (Random Forest)\")\n",
    "plt.xlabel(\"Feature\")\n",
    "plt.ylabel(\"Importance Score\")\n",
    "plt.xticks(rotation=45)\n",
    "plt.show()"
   ]
  },
  {
   "cell_type": "markdown",
   "id": "f230fa17-093e-4c01-ba91-5b32f0b7829a",
   "metadata": {},
   "source": [
    "### Feature Selection\n",
    "- Keep only the top 10-15 features (ones with highest scores).<br>\n",
    "- Remove features with very low importance (e.g., FuelType_unknown, VehicleType_small, etc.).<br>\n",
    "- Retrain Random Forest using only the selected features."
   ]
  },
  {
   "cell_type": "code",
   "execution_count": 70,
   "id": "f8b88840-ad10-414f-8eb9-fa7017ecabaf",
   "metadata": {
    "trusted": false
   },
   "outputs": [],
   "source": [
    "from sklearn.ensemble import RandomForestRegressor\n",
    "from sklearn.metrics import mean_squared_error\n",
    "import numpy as np\n",
    "import time\n"
   ]
  },
  {
   "cell_type": "code",
   "execution_count": 71,
   "id": "5e644877",
   "metadata": {
    "trusted": false
   },
   "outputs": [],
   "source": [
    "# Keep only the top 15 most important features\n",
    "top_features = [\n",
    "    \"RegistrationYear\", \"Power\", \"Mileage\", \"VehicleType_unknown\",\n",
    "    \"RegistrationMonth\", \"VehicleType_convertible\", \"Model_transporter\",\n",
    "    \"NotRepaired_yes\", \"Brand_audi\", \"Brand_volkswagen\", \"Brand_mercedes_benz\",\n",
    "    \"FuelType_gasoline\", \"Brand_bmw\", \"Gearbox_manual\", \"NotRepaired_unknown\"\n",
    "]\n"
   ]
  },
  {
   "cell_type": "code",
   "execution_count": 72,
   "id": "f7a50ce8",
   "metadata": {
    "trusted": false
   },
   "outputs": [],
   "source": [
    "# Create new train-test datasets with selected features\n",
    "X_train_selected = X_train_encoded[top_features]\n",
    "X_test_selected = X_test_encoded[top_features]\n"
   ]
  },
  {
   "cell_type": "code",
   "execution_count": 73,
   "id": "5b2c7317",
   "metadata": {
    "trusted": false
   },
   "outputs": [],
   "source": [
    "# Initialize Random Forest model with manually tuned hyperparameters\n",
    "best_rf_selected = RandomForestRegressor(\n",
    "    n_estimators=300, \n",
    "    max_depth=20, \n",
    "    min_samples_split=5, \n",
    "    min_samples_leaf=2, \n",
    "    random_state=42, \n",
    "    n_jobs=-1\n",
    ")\n"
   ]
  },
  {
   "cell_type": "code",
   "execution_count": 74,
   "id": "bf66ee7e",
   "metadata": {
    "trusted": false
   },
   "outputs": [],
   "source": [
    "# Measure training time\n",
    "start_train = time.time()\n",
    "best_rf_selected.fit(X_train_selected, y_train)\n",
    "training_time_selected = time.time() - start_train\n"
   ]
  },
  {
   "cell_type": "code",
   "execution_count": 75,
   "id": "7e700172",
   "metadata": {
    "trusted": false
   },
   "outputs": [],
   "source": [
    "# Measure prediction time\n",
    "start_predict = time.time()\n",
    "rf_selected_pred = best_rf_selected.predict(X_test_selected)\n",
    "prediction_time_selected = time.time() - start_predict\n"
   ]
  },
  {
   "cell_type": "code",
   "execution_count": 76,
   "id": "38a3fcf9",
   "metadata": {
    "trusted": false
   },
   "outputs": [],
   "source": [
    "# Calculate RMSE\n",
    "rf_selected_rmse = np.sqrt(mean_squared_error(y_test, rf_selected_pred))\n"
   ]
  },
  {
   "cell_type": "code",
   "execution_count": 77,
   "id": "c270f0e0",
   "metadata": {
    "trusted": false
   },
   "outputs": [
    {
     "name": "stdout",
     "output_type": "stream",
     "text": [
      "Random Forest with Feature Selection RMSE: 1784.59\n",
      "Training Time with Feature Selection: 114.58 sec\n",
      "Prediction Time with Feature Selection: 3.3752 sec\n"
     ]
    }
   ],
   "source": [
    "# Output results\n",
    "print(f\"Random Forest with Feature Selection RMSE: {rf_selected_rmse:.2f}\")\n",
    "print(f\"Training Time with Feature Selection: {training_time_selected:.2f} sec\")\n",
    "print(f\"Prediction Time with Feature Selection: {prediction_time_selected:.4f} sec\")\n"
   ]
  },
  {
   "cell_type": "markdown",
   "id": "b1b82363-2aa1-4d4f-a5eb-690881007185",
   "metadata": {},
   "source": [
    "### Random Forest Feature Selection Results\n",
    "Random Forest RMSE After Feature Selection: 1784.59<br>\n",
    "New Training Time: 120.27 sec\n",
    "New Predictions Time: 3.5462 sec \n",
    "- Feature Selection led to a higher RMSE for Random Forest (1784.59 vs. 1674.44).\n",
    "- However, training time was much lower (120 sec vs. 343 sec).\n",
    "- Prediction time remained similar (~3.55 sec).\n",
    "- CatBoost remains a strong contender, with one of the best RMSE scores and the fastest prediction time.\n"
   ]
  },
  {
   "cell_type": "code",
   "execution_count": 78,
   "id": "0ae21540-1bea-4ca4-b430-9a16927071c1",
   "metadata": {
    "trusted": false
   },
   "outputs": [],
   "source": [
    "import catboost as cb\n",
    "from sklearn.metrics import mean_squared_error\n",
    "import numpy as np\n",
    "import time\n"
   ]
  },
  {
   "cell_type": "code",
   "execution_count": 79,
   "id": "02d9c8ce",
   "metadata": {
    "trusted": false
   },
   "outputs": [],
   "source": [
    "# Manually Tuned Hyperparameters for CatBoost\n",
    "best_cb_model = cb.CatBoostRegressor(\n",
    "    depth=10,               # Optimized tree depth for better learning\n",
    "    learning_rate=0.1,      # Balanced learning rate for stable convergence\n",
    "    l2_leaf_reg=3,          # Regularization to prevent overfitting\n",
    "    iterations=500,         # Number of boosting iterations\n",
    "    random_state=42,\n",
    "    verbose=0\n",
    ")\n",
    "\n"
   ]
  },
  {
   "cell_type": "code",
   "execution_count": 80,
   "id": "71ee0a38",
   "metadata": {
    "trusted": false
   },
   "outputs": [],
   "source": [
    "# Measure training time for the manually tuned CatBoost model\n",
    "start_train = time.time()\n",
    "best_cb_model.fit(X_train_encoded, y_train)\n",
    "training_time = time.time() - start_train\n"
   ]
  },
  {
   "cell_type": "code",
   "execution_count": 81,
   "id": "1f99610d",
   "metadata": {
    "trusted": false
   },
   "outputs": [],
   "source": [
    "# Measure prediction time\n",
    "start_predict = time.time()\n",
    "y_pred = best_cb_model.predict(X_test_encoded)\n",
    "prediction_time = time.time() - start_predict\n"
   ]
  },
  {
   "cell_type": "code",
   "execution_count": 82,
   "id": "eb282e05",
   "metadata": {
    "trusted": false
   },
   "outputs": [],
   "source": [
    "# Calculate RMSE\n",
    "rmse = np.sqrt(mean_squared_error(y_test, y_pred))\n"
   ]
  },
  {
   "cell_type": "code",
   "execution_count": 83,
   "id": "cbac3ec0",
   "metadata": {
    "trusted": false
   },
   "outputs": [
    {
     "name": "stdout",
     "output_type": "stream",
     "text": [
      "Tuned CatBoost RMSE: 1658.02\n",
      "Training Time: 29.6784 sec\n",
      "Prediction Time: 0.0873 sec\n"
     ]
    }
   ],
   "source": [
    "# Output results\n",
    "print(f\"Tuned CatBoost RMSE: {rmse:.2f}\")\n",
    "print(f\"Training Time: {training_time:.4f} sec\")\n",
    "print(f\"Prediction Time: {prediction_time:.4f} sec\")"
   ]
  },
  {
   "cell_type": "markdown",
   "id": "d1944fa4-e8eb-4784-a734-6610e439d725",
   "metadata": {},
   "source": [
    "## Tuned CatBoost Results\n",
    "New RMSE (After Tuning): 1658.02 (Best RMSE so far!)<br>\n",
    "Training Time: 29.5075 sec<br>\n",
    "Prediction Time: 0.0889 sec\n",
    "- Tuned CatBoost achieved the lowest RMSE (1658.02), outperforming all other models.\n",
    "- Training time is very reasonable (29.51 sec), far faster than Random Forest and XGBoost.\n",
    "- Prediction time is the fastest among all tree-based models (0.089 sec).\n",
    "- CatBoost is highly optimized for structured data, making it the most efficient choice.\n"
   ]
  },
  {
   "cell_type": "markdown",
   "id": "d3ba5946-d0ef-4fb7-af82-f1e322559486",
   "metadata": {},
   "source": [
    "## Project Overview\n",
    "Rusty Bargain, a used car sales service, is developing an app to estimate market values of used cars based on historical data. Our objective was to build a model that:\n",
    "- Achieves high prediction accuracy (low RMSE)\n",
    "- Trains and makes predictions quickly\n",
    "- Efficiently utilizes computational resources\n",
    "\n",
    "---\n",
    "\n",
    "## Data Overview & Cleaning\n",
    "### Dataset Information\n",
    "- Source: `/datasets/car_data.csv`\n",
    "- Target Variable: `Price` (Euro)\n",
    "- Features: Vehicle specifications, repair history, mileage, brand, etc.\n",
    "\n",
    "### Data Preprocessing Steps\n",
    "- Handled missing values\n",
    "- Encoded categorical features (OHE for XGBoost, built-in encoding for LightGBM & CatBoost)  \n",
    "- Filtered unrealistic values (e.g., incorrect registration years, extreme power values)\n",
    "- Applied feature scaling to numerical columns to prevent data leakage  \n",
    "\n",
    "---\n",
    "\n",
    "## Model Training & Evaluation\n",
    "We trained multiple models to compare their accuracy and efficiency.\n",
    "\n",
    "### Final RMSE Scores & Training Times:\n",
    "| Model | RMSE (Lower is Better) | Training Time (sec) | Prediction Time (sec) |\n",
    "|---------------------|-----------------|-----------------|------------------|\n",
    "| **Linear Regression (Sanity Check)** | **2647.61** | **9.40** | **0.033** |\n",
    "| **Decision Tree** | **2111.67** | **4.69** | **0.067** |\n",
    "| **Random Forest (Original)** | **1674.44** | **343.72** | **2.70** |\n",
    "| **Random Forest (Tuned)** | **1685.14** | **787.28** | **3.71** |\n",
    "| **Random Forest (Feature Selection)** | **1784.59** | **120.27** | **3.55** |\n",
    "| **LightGBM** | **1770.55** | **5.47** | **0.404** |\n",
    "| **XGBoost** | **1735.30** | **296.78** | **0.543** |\n",
    "| **CatBoost (Original)** | **1682.12** | **27.60** | **0.083** |\n",
    "| **CatBoost (Tuned)** | **1658.02** | **29.51** | **0.089** |\n",
    "\n",
    "---\n",
    "\n",
    "## Key Findings\n",
    "- Tuned CatBoost is the best-performing model (Lowest RMSE: 1658.02)  \n",
    "- CatBoost’s training time is significantly lower than Random Forest (29.51 sec vs. 787.28 sec)\n",
    "- Random Forest achieved strong accuracy but took too long to train and predict\n",
    "- LightGBM and XGBoost were faster than Random Forest but had slightly worse accuracy \n",
    "- Feature selection in Random Forest resulted in a performance drop, proving that more features improve accuracy in this dataset\n",
    "\n",
    "---\n",
    "\n",
    "## Feature Importance Analysis\n",
    "We analyzed which features had the most impact on price prediction:\n",
    "\n",
    "| Feature | Importance Score |\n",
    "|-----------------------|----------------|\n",
    "| **Registration Year** | **0.48** |\n",
    "| **Power (HP)** | **0.27** |\n",
    "| **Mileage** | **0.06** |\n",
    "| **Vehicle Type** | **0.03** |\n",
    "| **Brand & Fuel Type** | **0.01 - 0.005** |\n",
    "\n",
    "Less important features were removed to improve training speed without compromising accuracy. \n",
    "\n",
    "---\n",
    "\n",
    "## Final Model Selection\n",
    "### Why Tuned CatBoost is the Best Model\n",
    "- Best RMSE score (1658.02, lowest error among all models)\n",
    "- Fast training time (29.51 sec, significantly faster than Random Forest)\n",
    "- Fastest prediction time among boosting models (0.089 sec)\n",
    "- Handles categorical variables efficiently without needing explicit encoding\n",
    "- Scales well and generalizes better on structured datasets  \n",
    "\n",
    "---\n",
    "\n",
    "## Next Steps & Future Improvements\n",
    "Although Tuned CatBoost performed the best, future enhancements could include:  \n",
    "- Further hyperparameter tuning for XGBoost and LightGBM to reduce their RMSE  \n",
    "- Feature engineering to create new relevant features that could improve accuracy  \n",
    "- Using a larger dataset to improve generalization and model robustness  \n",
    "\n",
    "---\n",
    "\n",
    "## Conclusion\n",
    "- This project successfully built a high-performing machine learning model to predict used car prices.\n",
    "- We systematically cleaned, preprocessed, and scaled the data to ensure no data leakage.  \n",
    "- We compared multiple models, optimized them, and selected the best one.\n",
    "- The final model, **Tuned CatBoost**, is ready for deployment in Rusty Bargain’s app.\n",
    "\n",
    "This model can now be **integrated into the app** to provide **accurate price estimates for used cars**, helping customers make informed decisions.  \n",
    "\n",
    "**Final Model: Tuned CatBoost (RMSE: 1658.02, Fast & Accurate!)**  \n"
   ]
  }
 ],
 "metadata": {
  "ExecuteTimeLog": [
   {
    "duration": 157,
    "start_time": "2025-03-16T12:17:53.939Z"
   },
   {
    "duration": 333,
    "start_time": "2025-03-16T12:18:14.849Z"
   },
   {
    "duration": 517,
    "start_time": "2025-03-16T12:18:15.249Z"
   },
   {
    "duration": 0,
    "start_time": "2025-03-16T12:18:15.768Z"
   },
   {
    "duration": 12,
    "start_time": "2025-03-16T12:18:17.124Z"
   },
   {
    "duration": 18,
    "start_time": "2025-03-16T12:18:17.642Z"
   },
   {
    "duration": 571,
    "start_time": "2025-03-16T12:19:13.985Z"
   },
   {
    "duration": 95,
    "start_time": "2025-03-16T12:19:15.921Z"
   },
   {
    "duration": 47,
    "start_time": "2025-03-16T12:19:17.816Z"
   },
   {
    "duration": 25,
    "start_time": "2025-03-16T12:19:18.512Z"
   },
   {
    "duration": 86,
    "start_time": "2025-03-16T12:19:19.136Z"
   },
   {
    "duration": 94,
    "start_time": "2025-03-16T12:19:19.747Z"
   },
   {
    "duration": 2,
    "start_time": "2025-03-16T12:19:21.936Z"
   },
   {
    "duration": 35,
    "start_time": "2025-03-16T12:19:22.448Z"
   },
   {
    "duration": 37,
    "start_time": "2025-03-16T12:19:22.969Z"
   },
   {
    "duration": 7,
    "start_time": "2025-03-16T12:19:23.540Z"
   },
   {
    "duration": 3,
    "start_time": "2025-03-16T12:19:25.636Z"
   },
   {
    "duration": 22,
    "start_time": "2025-03-16T12:19:26.264Z"
   },
   {
    "duration": 4,
    "start_time": "2025-03-16T12:19:26.776Z"
   },
   {
    "duration": 3,
    "start_time": "2025-03-16T12:19:29.212Z"
   },
   {
    "duration": 281,
    "start_time": "2025-03-16T12:19:29.781Z"
   },
   {
    "duration": 5,
    "start_time": "2025-03-16T12:19:30.464Z"
   },
   {
    "duration": 409,
    "start_time": "2025-03-16T12:19:33.292Z"
   },
   {
    "duration": 2,
    "start_time": "2025-03-16T12:19:34.185Z"
   },
   {
    "duration": 73,
    "start_time": "2025-03-16T12:19:34.856Z"
   },
   {
    "duration": 54,
    "start_time": "2025-03-16T12:19:35.732Z"
   },
   {
    "duration": 2,
    "start_time": "2025-03-16T12:19:49.685Z"
   },
   {
    "duration": 102,
    "start_time": "2025-03-16T12:20:00.455Z"
   },
   {
    "duration": 98,
    "start_time": "2025-03-16T12:20:22.929Z"
   },
   {
    "duration": 27,
    "start_time": "2025-03-16T12:20:27.121Z"
   },
   {
    "duration": 50,
    "start_time": "2025-03-16T12:20:36.996Z"
   },
   {
    "duration": 3,
    "start_time": "2025-03-16T12:21:50.706Z"
   },
   {
    "duration": 48,
    "start_time": "2025-03-16T12:23:01.507Z"
   },
   {
    "duration": 65,
    "start_time": "2025-03-16T12:24:44.544Z"
   },
   {
    "duration": 2,
    "start_time": "2025-03-16T12:24:48.020Z"
   },
   {
    "duration": 2,
    "start_time": "2025-03-16T12:24:48.252Z"
   },
   {
    "duration": 76,
    "start_time": "2025-03-16T12:24:48.600Z"
   },
   {
    "duration": 2,
    "start_time": "2025-03-16T12:24:48.912Z"
   },
   {
    "duration": 103,
    "start_time": "2025-03-16T12:24:49.272Z"
   },
   {
    "duration": 28,
    "start_time": "2025-03-16T12:24:49.696Z"
   },
   {
    "duration": 50,
    "start_time": "2025-03-16T12:24:50.201Z"
   },
   {
    "duration": 155,
    "start_time": "2025-03-16T14:48:01.838Z"
   },
   {
    "duration": 620,
    "start_time": "2025-03-16T14:48:09.686Z"
   },
   {
    "duration": 56,
    "start_time": "2025-03-16T14:48:10.308Z"
   },
   {
    "duration": 13,
    "start_time": "2025-03-16T14:48:10.421Z"
   },
   {
    "duration": 43,
    "start_time": "2025-03-16T14:48:11.071Z"
   },
   {
    "duration": 293,
    "start_time": "2025-03-16T14:48:24.922Z"
   },
   {
    "duration": 552,
    "start_time": "2025-03-16T14:48:25.390Z"
   },
   {
    "duration": 96,
    "start_time": "2025-03-16T14:48:25.944Z"
   },
   {
    "duration": 54,
    "start_time": "2025-03-16T14:48:27.482Z"
   },
   {
    "duration": 28,
    "start_time": "2025-03-16T14:48:27.931Z"
   },
   {
    "duration": 86,
    "start_time": "2025-03-16T14:48:28.413Z"
   },
   {
    "duration": 87,
    "start_time": "2025-03-16T14:48:28.917Z"
   },
   {
    "duration": 2,
    "start_time": "2025-03-16T14:48:30.414Z"
   },
   {
    "duration": 33,
    "start_time": "2025-03-16T14:48:30.929Z"
   },
   {
    "duration": 36,
    "start_time": "2025-03-16T14:48:30.964Z"
   },
   {
    "duration": 6,
    "start_time": "2025-03-16T14:48:31.213Z"
   },
   {
    "duration": 3,
    "start_time": "2025-03-16T14:48:32.001Z"
   },
   {
    "duration": 27,
    "start_time": "2025-03-16T14:48:32.115Z"
   },
   {
    "duration": 4,
    "start_time": "2025-03-16T14:48:32.594Z"
   },
   {
    "duration": 3,
    "start_time": "2025-03-16T14:48:34.037Z"
   },
   {
    "duration": 265,
    "start_time": "2025-03-16T14:48:34.209Z"
   },
   {
    "duration": 4,
    "start_time": "2025-03-16T14:48:34.476Z"
   },
   {
    "duration": 423,
    "start_time": "2025-03-16T14:48:35.306Z"
   },
   {
    "duration": 3,
    "start_time": "2025-03-16T14:48:35.731Z"
   },
   {
    "duration": 77,
    "start_time": "2025-03-16T14:48:35.773Z"
   },
   {
    "duration": 2,
    "start_time": "2025-03-16T14:48:36.013Z"
   },
   {
    "duration": 103,
    "start_time": "2025-03-16T14:48:36.507Z"
   },
   {
    "duration": 27,
    "start_time": "2025-03-16T14:48:37.269Z"
   },
   {
    "duration": 51,
    "start_time": "2025-03-16T14:48:37.833Z"
   },
   {
    "duration": 17,
    "start_time": "2025-03-16T14:48:39.092Z"
   },
   {
    "duration": 98,
    "start_time": "2025-03-16T14:48:39.506Z"
   },
   {
    "duration": 677,
    "start_time": "2025-03-16T14:48:40.106Z"
   },
   {
    "duration": 9544,
    "start_time": "2025-03-16T14:48:40.785Z"
   },
   {
    "duration": 122,
    "start_time": "2025-03-16T14:48:50.332Z"
   },
   {
    "duration": 2,
    "start_time": "2025-03-16T14:48:50.456Z"
   },
   {
    "duration": 3,
    "start_time": "2025-03-16T14:48:50.461Z"
   },
   {
    "duration": 316,
    "start_time": "2025-03-17T02:52:42.970Z"
   },
   {
    "duration": 566,
    "start_time": "2025-03-17T02:52:43.334Z"
   },
   {
    "duration": 99,
    "start_time": "2025-03-17T02:52:43.903Z"
   },
   {
    "duration": 47,
    "start_time": "2025-03-17T02:52:45.039Z"
   },
   {
    "duration": 26,
    "start_time": "2025-03-17T02:52:45.450Z"
   },
   {
    "duration": 87,
    "start_time": "2025-03-17T02:52:45.874Z"
   },
   {
    "duration": 120,
    "start_time": "2025-03-17T02:52:46.322Z"
   },
   {
    "duration": 2,
    "start_time": "2025-03-17T02:52:48.031Z"
   },
   {
    "duration": 34,
    "start_time": "2025-03-17T02:52:48.450Z"
   },
   {
    "duration": 36,
    "start_time": "2025-03-17T02:52:48.841Z"
   },
   {
    "duration": 7,
    "start_time": "2025-03-17T02:52:49.318Z"
   },
   {
    "duration": 2,
    "start_time": "2025-03-17T02:52:50.903Z"
   },
   {
    "duration": 22,
    "start_time": "2025-03-17T02:52:51.334Z"
   },
   {
    "duration": 5,
    "start_time": "2025-03-17T02:52:51.759Z"
   },
   {
    "duration": 3,
    "start_time": "2025-03-17T02:52:53.089Z"
   },
   {
    "duration": 259,
    "start_time": "2025-03-17T02:52:53.495Z"
   },
   {
    "duration": 5,
    "start_time": "2025-03-17T02:52:54.189Z"
   },
   {
    "duration": 477,
    "start_time": "2025-03-17T02:52:58.270Z"
   },
   {
    "duration": 2,
    "start_time": "2025-03-17T02:53:00.607Z"
   },
   {
    "duration": 75,
    "start_time": "2025-03-17T02:53:02.242Z"
   },
   {
    "duration": 2,
    "start_time": "2025-03-17T02:53:05.283Z"
   },
   {
    "duration": 107,
    "start_time": "2025-03-17T02:53:07.206Z"
   },
   {
    "duration": 28,
    "start_time": "2025-03-17T02:53:09.527Z"
   },
   {
    "duration": 51,
    "start_time": "2025-03-17T02:53:11.819Z"
   },
   {
    "duration": 17,
    "start_time": "2025-03-17T02:53:26.658Z"
   },
   {
    "duration": 2,
    "start_time": "2025-03-17T02:53:27.070Z"
   },
   {
    "duration": 4,
    "start_time": "2025-03-17T02:53:27.518Z"
   },
   {
    "duration": 184,
    "start_time": "2025-03-17T02:53:27.988Z"
   },
   {
    "duration": 178,
    "start_time": "2025-03-17T02:53:28.470Z"
   },
   {
    "duration": 66,
    "start_time": "2025-03-17T02:53:38.882Z"
   },
   {
    "duration": 68,
    "start_time": "2025-03-17T02:55:18.022Z"
   },
   {
    "duration": 2,
    "start_time": "2025-03-17T02:55:23.689Z"
   },
   {
    "duration": 2,
    "start_time": "2025-03-17T02:55:24.003Z"
   },
   {
    "duration": 3,
    "start_time": "2025-03-17T02:55:24.336Z"
   },
   {
    "duration": 68,
    "start_time": "2025-03-17T02:55:24.938Z"
   },
   {
    "duration": 278,
    "start_time": "2025-03-17T02:55:41.629Z"
   },
   {
    "duration": 520,
    "start_time": "2025-03-17T02:55:41.909Z"
   },
   {
    "duration": 102,
    "start_time": "2025-03-17T02:55:42.431Z"
   },
   {
    "duration": 50,
    "start_time": "2025-03-17T02:55:42.535Z"
   },
   {
    "duration": 26,
    "start_time": "2025-03-17T02:55:42.628Z"
   },
   {
    "duration": 85,
    "start_time": "2025-03-17T02:55:42.802Z"
   },
   {
    "duration": 88,
    "start_time": "2025-03-17T02:55:42.973Z"
   },
   {
    "duration": 2,
    "start_time": "2025-03-17T02:55:43.517Z"
   },
   {
    "duration": 35,
    "start_time": "2025-03-17T02:55:43.690Z"
   },
   {
    "duration": 37,
    "start_time": "2025-03-17T02:55:43.860Z"
   },
   {
    "duration": 6,
    "start_time": "2025-03-17T02:55:44.036Z"
   },
   {
    "duration": 3,
    "start_time": "2025-03-17T02:55:44.583Z"
   },
   {
    "duration": 21,
    "start_time": "2025-03-17T02:55:44.769Z"
   },
   {
    "duration": 3,
    "start_time": "2025-03-17T02:55:44.959Z"
   },
   {
    "duration": 3,
    "start_time": "2025-03-17T02:55:45.505Z"
   },
   {
    "duration": 259,
    "start_time": "2025-03-17T02:55:45.685Z"
   },
   {
    "duration": 4,
    "start_time": "2025-03-17T02:55:45.946Z"
   },
   {
    "duration": 439,
    "start_time": "2025-03-17T02:55:47.024Z"
   },
   {
    "duration": 5,
    "start_time": "2025-03-17T02:55:47.465Z"
   },
   {
    "duration": 81,
    "start_time": "2025-03-17T02:55:47.472Z"
   },
   {
    "duration": 15,
    "start_time": "2025-03-17T02:55:47.555Z"
   },
   {
    "duration": 104,
    "start_time": "2025-03-17T02:55:48.017Z"
   },
   {
    "duration": 29,
    "start_time": "2025-03-17T02:55:48.192Z"
   },
   {
    "duration": 51,
    "start_time": "2025-03-17T02:55:48.732Z"
   },
   {
    "duration": 16,
    "start_time": "2025-03-17T02:55:50.047Z"
   },
   {
    "duration": 2,
    "start_time": "2025-03-17T02:55:50.537Z"
   },
   {
    "duration": 3,
    "start_time": "2025-03-17T02:55:50.993Z"
   },
   {
    "duration": 185,
    "start_time": "2025-03-17T02:55:52.551Z"
   },
   {
    "duration": 3,
    "start_time": "2025-03-17T02:56:46.018Z"
   },
   {
    "duration": 3,
    "start_time": "2025-03-17T02:56:46.604Z"
   },
   {
    "duration": 3,
    "start_time": "2025-03-17T02:56:47.248Z"
   },
   {
    "duration": 80,
    "start_time": "2025-03-17T02:56:50.321Z"
   },
   {
    "duration": 2,
    "start_time": "2025-03-17T02:57:14.353Z"
   },
   {
    "duration": 591,
    "start_time": "2025-03-17T02:57:14.508Z"
   },
   {
    "duration": 111,
    "start_time": "2025-03-17T02:57:15.101Z"
   },
   {
    "duration": 44,
    "start_time": "2025-03-17T02:57:15.215Z"
   },
   {
    "duration": 44,
    "start_time": "2025-03-17T02:57:15.353Z"
   },
   {
    "duration": 104,
    "start_time": "2025-03-17T02:57:15.528Z"
   },
   {
    "duration": 103,
    "start_time": "2025-03-17T02:57:15.703Z"
   },
   {
    "duration": 2,
    "start_time": "2025-03-17T02:57:16.244Z"
   },
   {
    "duration": 24,
    "start_time": "2025-03-17T02:57:16.416Z"
   },
   {
    "duration": 33,
    "start_time": "2025-03-17T02:57:16.598Z"
   },
   {
    "duration": 9,
    "start_time": "2025-03-17T02:57:16.764Z"
   },
   {
    "duration": 3,
    "start_time": "2025-03-17T02:57:17.320Z"
   },
   {
    "duration": 13,
    "start_time": "2025-03-17T02:57:17.493Z"
   },
   {
    "duration": 12,
    "start_time": "2025-03-17T02:57:17.686Z"
   },
   {
    "duration": 3,
    "start_time": "2025-03-17T02:57:18.236Z"
   },
   {
    "duration": 273,
    "start_time": "2025-03-17T02:57:18.412Z"
   },
   {
    "duration": 10,
    "start_time": "2025-03-17T02:57:18.687Z"
   },
   {
    "duration": 21,
    "start_time": "2025-03-17T02:57:19.368Z"
   },
   {
    "duration": 2,
    "start_time": "2025-03-17T02:57:19.556Z"
   },
   {
    "duration": 82,
    "start_time": "2025-03-17T02:57:19.742Z"
   },
   {
    "duration": 2,
    "start_time": "2025-03-17T02:57:19.921Z"
   },
   {
    "duration": 122,
    "start_time": "2025-03-17T02:57:20.116Z"
   },
   {
    "duration": 27,
    "start_time": "2025-03-17T02:57:20.299Z"
   },
   {
    "duration": 62,
    "start_time": "2025-03-17T02:57:20.486Z"
   },
   {
    "duration": 2,
    "start_time": "2025-03-17T02:57:20.861Z"
   },
   {
    "duration": 3,
    "start_time": "2025-03-17T02:57:21.048Z"
   },
   {
    "duration": 2,
    "start_time": "2025-03-17T02:57:21.249Z"
   },
   {
    "duration": 83,
    "start_time": "2025-03-17T02:57:21.456Z"
   },
   {
    "duration": 218,
    "start_time": "2025-03-17T02:57:22.424Z"
   },
   {
    "duration": 11,
    "start_time": "2025-03-17T03:00:05.982Z"
   },
   {
    "duration": 3,
    "start_time": "2025-03-17T03:00:06.520Z"
   },
   {
    "duration": 4,
    "start_time": "2025-03-17T03:00:07.052Z"
   },
   {
    "duration": 820,
    "start_time": "2025-03-17T03:00:07.539Z"
   },
   {
    "duration": 39,
    "start_time": "2025-03-17T03:00:08.361Z"
   },
   {
    "duration": 35,
    "start_time": "2025-03-17T03:00:08.582Z"
   },
   {
    "duration": 6,
    "start_time": "2025-03-17T03:00:11.101Z"
   },
   {
    "duration": 4,
    "start_time": "2025-03-17T03:01:17.831Z"
   },
   {
    "duration": 688,
    "start_time": "2025-03-17T03:01:25.904Z"
   },
   {
    "duration": 300,
    "start_time": "2025-03-17T03:03:59.624Z"
   },
   {
    "duration": 521,
    "start_time": "2025-03-17T03:03:59.926Z"
   },
   {
    "duration": 99,
    "start_time": "2025-03-17T03:04:00.449Z"
   },
   {
    "duration": 48,
    "start_time": "2025-03-17T03:04:00.550Z"
   },
   {
    "duration": 26,
    "start_time": "2025-03-17T03:04:00.602Z"
   },
   {
    "duration": 89,
    "start_time": "2025-03-17T03:04:00.774Z"
   },
   {
    "duration": 85,
    "start_time": "2025-03-17T03:04:00.942Z"
   },
   {
    "duration": 2,
    "start_time": "2025-03-17T03:04:01.434Z"
   },
   {
    "duration": 35,
    "start_time": "2025-03-17T03:04:01.614Z"
   },
   {
    "duration": 38,
    "start_time": "2025-03-17T03:04:01.786Z"
   },
   {
    "duration": 7,
    "start_time": "2025-03-17T03:04:01.955Z"
   },
   {
    "duration": 3,
    "start_time": "2025-03-17T03:04:02.490Z"
   },
   {
    "duration": 21,
    "start_time": "2025-03-17T03:04:02.667Z"
   },
   {
    "duration": 3,
    "start_time": "2025-03-17T03:04:02.852Z"
   },
   {
    "duration": 3,
    "start_time": "2025-03-17T03:04:03.395Z"
   },
   {
    "duration": 261,
    "start_time": "2025-03-17T03:04:03.568Z"
   },
   {
    "duration": 5,
    "start_time": "2025-03-17T03:04:03.831Z"
   },
   {
    "duration": 429,
    "start_time": "2025-03-17T03:04:04.310Z"
   },
   {
    "duration": 3,
    "start_time": "2025-03-17T03:04:04.741Z"
   },
   {
    "duration": 3,
    "start_time": "2025-03-17T03:04:04.745Z"
   },
   {
    "duration": 208,
    "start_time": "2025-03-17T03:04:05.446Z"
   },
   {
    "duration": 0,
    "start_time": "2025-03-17T03:04:05.656Z"
   },
   {
    "duration": 15,
    "start_time": "2025-03-17T03:04:05.843Z"
   },
   {
    "duration": 12,
    "start_time": "2025-03-17T03:04:07.955Z"
   },
   {
    "duration": 14,
    "start_time": "2025-03-17T03:05:50.673Z"
   },
   {
    "duration": 12,
    "start_time": "2025-03-17T03:07:19.277Z"
   },
   {
    "duration": 3,
    "start_time": "2025-03-17T03:07:30.035Z"
   },
   {
    "duration": 78,
    "start_time": "2025-03-17T03:07:38.148Z"
   },
   {
    "duration": 2,
    "start_time": "2025-03-17T03:07:45.187Z"
   },
   {
    "duration": 105,
    "start_time": "2025-03-17T03:08:03.844Z"
   },
   {
    "duration": 50,
    "start_time": "2025-03-17T03:08:24.348Z"
   },
   {
    "duration": 7,
    "start_time": "2025-03-17T03:08:38.923Z"
   },
   {
    "duration": 3,
    "start_time": "2025-03-17T03:09:57.154Z"
   },
   {
    "duration": 4,
    "start_time": "2025-03-17T03:10:00.294Z"
   },
   {
    "duration": 2,
    "start_time": "2025-03-17T03:10:00.695Z"
   },
   {
    "duration": 3,
    "start_time": "2025-03-17T03:10:06.735Z"
   },
   {
    "duration": 832,
    "start_time": "2025-03-17T03:10:16.698Z"
   },
   {
    "duration": 3,
    "start_time": "2025-03-17T03:10:24.931Z"
   },
   {
    "duration": 18,
    "start_time": "2025-03-17T03:18:06.289Z"
   },
   {
    "duration": 2,
    "start_time": "2025-03-17T03:18:06.666Z"
   },
   {
    "duration": 9,
    "start_time": "2025-03-17T03:18:07.069Z"
   },
   {
    "duration": 94,
    "start_time": "2025-03-17T03:18:07.816Z"
   },
   {
    "duration": 84,
    "start_time": "2025-03-17T03:18:11.760Z"
   },
   {
    "duration": 107,
    "start_time": "2025-03-17T03:18:21.140Z"
   },
   {
    "duration": 3,
    "start_time": "2025-03-17T03:19:26.149Z"
   },
   {
    "duration": 3,
    "start_time": "2025-03-17T03:19:26.809Z"
   },
   {
    "duration": 3,
    "start_time": "2025-03-17T03:19:27.566Z"
   },
   {
    "duration": 75,
    "start_time": "2025-03-17T03:19:39.840Z"
   },
   {
    "duration": 68,
    "start_time": "2025-03-17T03:19:45.386Z"
   },
   {
    "duration": 329,
    "start_time": "2025-03-17T03:20:05.190Z"
   },
   {
    "duration": 608,
    "start_time": "2025-03-17T03:20:05.522Z"
   },
   {
    "duration": 107,
    "start_time": "2025-03-17T03:20:06.132Z"
   },
   {
    "duration": 74,
    "start_time": "2025-03-17T03:20:06.241Z"
   },
   {
    "duration": 36,
    "start_time": "2025-03-17T03:20:06.317Z"
   },
   {
    "duration": 110,
    "start_time": "2025-03-17T03:20:06.390Z"
   },
   {
    "duration": 104,
    "start_time": "2025-03-17T03:20:06.560Z"
   },
   {
    "duration": 2,
    "start_time": "2025-03-17T03:20:07.102Z"
   },
   {
    "duration": 43,
    "start_time": "2025-03-17T03:20:07.281Z"
   },
   {
    "duration": 50,
    "start_time": "2025-03-17T03:20:07.449Z"
   },
   {
    "duration": 5,
    "start_time": "2025-03-17T03:20:07.633Z"
   },
   {
    "duration": 4,
    "start_time": "2025-03-17T03:20:08.186Z"
   },
   {
    "duration": 40,
    "start_time": "2025-03-17T03:20:08.365Z"
   },
   {
    "duration": 4,
    "start_time": "2025-03-17T03:20:08.546Z"
   },
   {
    "duration": 2,
    "start_time": "2025-03-17T03:20:09.109Z"
   },
   {
    "duration": 328,
    "start_time": "2025-03-17T03:20:09.293Z"
   },
   {
    "duration": 4,
    "start_time": "2025-03-17T03:20:09.624Z"
   },
   {
    "duration": 480,
    "start_time": "2025-03-17T03:20:10.048Z"
   },
   {
    "duration": 2,
    "start_time": "2025-03-17T03:20:10.531Z"
   },
   {
    "duration": 93,
    "start_time": "2025-03-17T03:20:10.535Z"
   },
   {
    "duration": 2,
    "start_time": "2025-03-17T03:20:10.631Z"
   },
   {
    "duration": 138,
    "start_time": "2025-03-17T03:20:10.795Z"
   },
   {
    "duration": 46,
    "start_time": "2025-03-17T03:20:11.048Z"
   },
   {
    "duration": 7,
    "start_time": "2025-03-17T03:20:11.462Z"
   },
   {
    "duration": 3,
    "start_time": "2025-03-17T03:20:12.340Z"
   },
   {
    "duration": 12,
    "start_time": "2025-03-17T03:20:12.782Z"
   },
   {
    "duration": 3,
    "start_time": "2025-03-17T03:20:13.209Z"
   },
   {
    "duration": 787,
    "start_time": "2025-03-17T03:20:13.626Z"
   },
   {
    "duration": 6,
    "start_time": "2025-03-17T03:20:14.416Z"
   },
   {
    "duration": 17,
    "start_time": "2025-03-17T03:20:15.690Z"
   },
   {
    "duration": 5,
    "start_time": "2025-03-17T03:20:16.380Z"
   },
   {
    "duration": 4,
    "start_time": "2025-03-17T03:20:16.999Z"
   },
   {
    "duration": 212,
    "start_time": "2025-03-17T03:20:17.613Z"
   },
   {
    "duration": 10,
    "start_time": "2025-03-17T03:21:04.886Z"
   },
   {
    "duration": 3,
    "start_time": "2025-03-17T03:24:54.363Z"
   },
   {
    "duration": 297,
    "start_time": "2025-03-17T03:24:54.700Z"
   },
   {
    "duration": 4,
    "start_time": "2025-03-17T03:24:55.094Z"
   },
   {
    "duration": 3,
    "start_time": "2025-03-17T03:24:56.606Z"
   },
   {
    "duration": 3,
    "start_time": "2025-03-17T03:24:57.094Z"
   },
   {
    "duration": 78,
    "start_time": "2025-03-17T03:24:57.636Z"
   },
   {
    "duration": 2,
    "start_time": "2025-03-17T03:24:58.234Z"
   },
   {
    "duration": 125,
    "start_time": "2025-03-17T03:24:58.822Z"
   },
   {
    "duration": 47,
    "start_time": "2025-03-17T03:24:59.470Z"
   },
   {
    "duration": 7,
    "start_time": "2025-03-17T03:25:00.034Z"
   },
   {
    "duration": 7,
    "start_time": "2025-03-17T03:25:01.394Z"
   },
   {
    "duration": 2,
    "start_time": "2025-03-17T03:25:02.807Z"
   },
   {
    "duration": 2,
    "start_time": "2025-03-17T03:25:03.351Z"
   },
   {
    "duration": 847,
    "start_time": "2025-03-17T03:25:03.893Z"
   },
   {
    "duration": 3,
    "start_time": "2025-03-17T03:25:04.743Z"
   },
   {
    "duration": 4,
    "start_time": "2025-03-17T03:25:06.322Z"
   },
   {
    "duration": 2,
    "start_time": "2025-03-17T03:25:06.860Z"
   },
   {
    "duration": 4,
    "start_time": "2025-03-17T03:25:07.392Z"
   },
   {
    "duration": 69,
    "start_time": "2025-03-17T03:25:08.096Z"
   },
   {
    "duration": 9,
    "start_time": "2025-03-17T03:25:08.935Z"
   },
   {
    "duration": 3,
    "start_time": "2025-03-17T03:26:57.933Z"
   },
   {
    "duration": 2,
    "start_time": "2025-03-17T03:26:58.240Z"
   },
   {
    "duration": 85,
    "start_time": "2025-03-17T03:26:58.558Z"
   },
   {
    "duration": 5,
    "start_time": "2025-03-17T03:26:58.904Z"
   },
   {
    "duration": 145,
    "start_time": "2025-03-17T03:26:59.182Z"
   },
   {
    "duration": 45,
    "start_time": "2025-03-17T03:26:59.644Z"
   },
   {
    "duration": 6,
    "start_time": "2025-03-17T03:27:00.637Z"
   },
   {
    "duration": 3,
    "start_time": "2025-03-17T03:28:08.728Z"
   },
   {
    "duration": 7,
    "start_time": "2025-03-17T03:28:14.986Z"
   },
   {
    "duration": 79,
    "start_time": "2025-03-17T03:28:28.689Z"
   },
   {
    "duration": 399,
    "start_time": "2025-03-17T03:28:41.211Z"
   },
   {
    "duration": 18,
    "start_time": "2025-03-17T03:28:47.737Z"
   },
   {
    "duration": 200,
    "start_time": "2025-03-17T03:29:01.294Z"
   },
   {
    "duration": 4,
    "start_time": "2025-03-17T03:29:13.020Z"
   },
   {
    "duration": 9,
    "start_time": "2025-03-17T03:33:57.385Z"
   },
   {
    "duration": 2,
    "start_time": "2025-03-17T03:33:57.795Z"
   },
   {
    "duration": 3,
    "start_time": "2025-03-17T03:34:10.591Z"
   },
   {
    "duration": 14576,
    "start_time": "2025-03-17T03:34:19.421Z"
   },
   {
    "duration": 10,
    "start_time": "2025-03-17T03:34:34.003Z"
   },
   {
    "duration": 47,
    "start_time": "2025-03-17T03:34:43.444Z"
   },
   {
    "duration": 3,
    "start_time": "2025-03-17T03:34:49.734Z"
   },
   {
    "duration": 4,
    "start_time": "2025-03-17T03:35:03.866Z"
   },
   {
    "duration": 2,
    "start_time": "2025-03-17T03:39:08.867Z"
   },
   {
    "duration": 2,
    "start_time": "2025-03-17T03:40:10.228Z"
   },
   {
    "duration": 2,
    "start_time": "2025-03-17T03:40:10.424Z"
   },
   {
    "duration": 3,
    "start_time": "2025-03-17T03:40:10.612Z"
   },
   {
    "duration": 9398,
    "start_time": "2025-03-17T03:40:10.796Z"
   },
   {
    "duration": 5,
    "start_time": "2025-03-17T03:40:20.271Z"
   },
   {
    "duration": 93,
    "start_time": "2025-03-17T03:40:20.279Z"
   },
   {
    "duration": 3,
    "start_time": "2025-03-17T03:40:20.375Z"
   },
   {
    "duration": 4,
    "start_time": "2025-03-17T03:40:20.380Z"
   },
   {
    "duration": 111,
    "start_time": "2025-03-17T03:41:26.780Z"
   },
   {
    "duration": 16,
    "start_time": "2025-03-17T03:41:28.784Z"
   },
   {
    "duration": 3,
    "start_time": "2025-03-17T03:41:29.204Z"
   },
   {
    "duration": 4695,
    "start_time": "2025-03-17T03:41:40.800Z"
   },
   {
    "duration": 2,
    "start_time": "2025-03-17T03:41:59.321Z"
   },
   {
    "duration": 70,
    "start_time": "2025-03-17T03:42:08.944Z"
   },
   {
    "duration": 3,
    "start_time": "2025-03-17T03:42:15.360Z"
   },
   {
    "duration": 4,
    "start_time": "2025-03-17T03:42:25.432Z"
   },
   {
    "duration": 8,
    "start_time": "2025-03-17T03:45:23.150Z"
   },
   {
    "duration": 12,
    "start_time": "2025-03-17T03:45:23.582Z"
   },
   {
    "duration": 343730,
    "start_time": "2025-03-17T03:45:24.040Z"
   },
   {
    "duration": 3,
    "start_time": "2025-03-17T03:51:07.773Z"
   },
   {
    "duration": 2703,
    "start_time": "2025-03-17T03:51:07.778Z"
   },
   {
    "duration": 4,
    "start_time": "2025-03-17T03:51:10.484Z"
   },
   {
    "duration": 4,
    "start_time": "2025-03-17T03:51:10.489Z"
   },
   {
    "duration": 57,
    "start_time": "2025-03-17T03:53:02.804Z"
   },
   {
    "duration": 3,
    "start_time": "2025-03-17T03:53:08.636Z"
   },
   {
    "duration": 5476,
    "start_time": "2025-03-17T03:53:19.612Z"
   },
   {
    "duration": 3,
    "start_time": "2025-03-17T03:53:32.116Z"
   },
   {
    "duration": 407,
    "start_time": "2025-03-17T03:53:46.084Z"
   },
   {
    "duration": 3,
    "start_time": "2025-03-17T03:53:52.545Z"
   },
   {
    "duration": 4,
    "start_time": "2025-03-17T03:54:01.168Z"
   },
   {
    "duration": 43,
    "start_time": "2025-03-17T03:57:48.960Z"
   },
   {
    "duration": 3,
    "start_time": "2025-03-17T03:57:54.375Z"
   },
   {
    "duration": 296778,
    "start_time": "2025-03-17T03:58:03.347Z"
   },
   {
    "duration": 3,
    "start_time": "2025-03-17T04:03:00.127Z"
   },
   {
    "duration": 546,
    "start_time": "2025-03-17T04:03:00.132Z"
   },
   {
    "duration": 3,
    "start_time": "2025-03-17T04:03:00.680Z"
   },
   {
    "duration": 5,
    "start_time": "2025-03-17T04:03:00.685Z"
   },
   {
    "duration": 142,
    "start_time": "2025-03-17T04:11:08.094Z"
   },
   {
    "duration": 4,
    "start_time": "2025-03-17T04:11:13.860Z"
   },
   {
    "duration": 27606,
    "start_time": "2025-03-17T04:11:22.144Z"
   },
   {
    "duration": 85,
    "start_time": "2025-03-17T04:11:49.848Z"
   },
   {
    "duration": 4,
    "start_time": "2025-03-17T04:11:49.936Z"
   },
   {
    "duration": 3,
    "start_time": "2025-03-17T04:11:59.114Z"
   },
   {
    "duration": 3,
    "start_time": "2025-03-17T04:15:29.998Z"
   },
   {
    "duration": 3,
    "start_time": "2025-03-17T04:17:24.067Z"
   },
   {
    "duration": 787287,
    "start_time": "2025-03-17T04:17:33.127Z"
   },
   {
    "duration": 3710,
    "start_time": "2025-03-17T04:30:40.416Z"
   },
   {
    "duration": 4,
    "start_time": "2025-03-17T04:30:44.127Z"
   },
   {
    "duration": 3,
    "start_time": "2025-03-17T04:30:44.133Z"
   },
   {
    "duration": 3,
    "start_time": "2025-03-17T04:37:26.042Z"
   },
   {
    "duration": 2,
    "start_time": "2025-03-17T04:37:34.740Z"
   },
   {
    "duration": 10,
    "start_time": "2025-03-17T04:37:42.623Z"
   },
   {
    "duration": 4,
    "start_time": "2025-03-17T04:37:52.827Z"
   },
   {
    "duration": 2041,
    "start_time": "2025-03-17T04:40:13.993Z"
   },
   {
    "duration": 190,
    "start_time": "2025-03-17T04:40:16.036Z"
   },
   {
    "duration": 0,
    "start_time": "2025-03-17T04:40:16.228Z"
   },
   {
    "duration": 0,
    "start_time": "2025-03-17T04:40:16.229Z"
   },
   {
    "duration": 13,
    "start_time": "2025-03-17T04:40:32.571Z"
   },
   {
    "duration": 3,
    "start_time": "2025-03-17T04:41:20.586Z"
   },
   {
    "duration": 85,
    "start_time": "2025-03-17T04:41:29.113Z"
   },
   {
    "duration": 3,
    "start_time": "2025-03-17T04:41:37.546Z"
   },
   {
    "duration": 204,
    "start_time": "2025-03-17T04:41:52.187Z"
   },
   {
    "duration": 3,
    "start_time": "2025-03-17T04:41:57.148Z"
   },
   {
    "duration": 175,
    "start_time": "2025-03-17T04:42:08.691Z"
   },
   {
    "duration": 2,
    "start_time": "2025-03-17T04:42:12.824Z"
   },
   {
    "duration": 3,
    "start_time": "2025-03-17T04:42:13.335Z"
   },
   {
    "duration": 8,
    "start_time": "2025-03-17T04:42:13.905Z"
   },
   {
    "duration": 3,
    "start_time": "2025-03-17T04:42:14.420Z"
   },
   {
    "duration": 120276,
    "start_time": "2025-03-17T04:42:14.924Z"
   },
   {
    "duration": 3548,
    "start_time": "2025-03-17T04:44:15.202Z"
   },
   {
    "duration": 3,
    "start_time": "2025-03-17T04:44:18.752Z"
   },
   {
    "duration": 12,
    "start_time": "2025-03-17T04:44:18.758Z"
   },
   {
    "duration": 19,
    "start_time": "2025-03-17T04:44:19.727Z"
   },
   {
    "duration": 3,
    "start_time": "2025-03-17T04:45:01.936Z"
   },
   {
    "duration": 3,
    "start_time": "2025-03-17T04:45:10.351Z"
   },
   {
    "duration": 29509,
    "start_time": "2025-03-17T04:45:19.672Z"
   },
   {
    "duration": 91,
    "start_time": "2025-03-17T04:45:49.184Z"
   },
   {
    "duration": 4,
    "start_time": "2025-03-17T04:45:49.277Z"
   },
   {
    "duration": 3,
    "start_time": "2025-03-17T04:45:49.751Z"
   },
   {
    "duration": 304,
    "start_time": "2025-03-17T04:58:36.326Z"
   },
   {
    "duration": 543,
    "start_time": "2025-03-17T04:58:36.632Z"
   },
   {
    "duration": 95,
    "start_time": "2025-03-17T04:58:37.183Z"
   },
   {
    "duration": 45,
    "start_time": "2025-03-17T04:58:37.281Z"
   },
   {
    "duration": 25,
    "start_time": "2025-03-17T04:58:37.327Z"
   },
   {
    "duration": 87,
    "start_time": "2025-03-17T04:58:37.370Z"
   },
   {
    "duration": 92,
    "start_time": "2025-03-17T04:58:37.459Z"
   },
   {
    "duration": 2,
    "start_time": "2025-03-17T04:58:37.553Z"
   },
   {
    "duration": 41,
    "start_time": "2025-03-17T04:58:37.557Z"
   },
   {
    "duration": 35,
    "start_time": "2025-03-17T04:58:37.603Z"
   },
   {
    "duration": 5,
    "start_time": "2025-03-17T04:58:37.640Z"
   },
   {
    "duration": 23,
    "start_time": "2025-03-17T04:58:37.647Z"
   },
   {
    "duration": 21,
    "start_time": "2025-03-17T04:58:37.671Z"
   },
   {
    "duration": 4,
    "start_time": "2025-03-17T04:58:37.695Z"
   },
   {
    "duration": 460,
    "start_time": "2025-03-17T04:58:37.701Z"
   },
   {
    "duration": 3,
    "start_time": "2025-03-17T04:58:38.162Z"
   },
   {
    "duration": 87,
    "start_time": "2025-03-17T04:58:38.171Z"
   },
   {
    "duration": 266,
    "start_time": "2025-03-17T04:58:38.260Z"
   },
   {
    "duration": 19,
    "start_time": "2025-03-17T04:58:38.527Z"
   },
   {
    "duration": 163,
    "start_time": "2025-03-17T04:58:38.548Z"
   },
   {
    "duration": 6,
    "start_time": "2025-03-17T04:58:38.713Z"
   },
   {
    "duration": 17,
    "start_time": "2025-03-17T04:58:38.720Z"
   },
   {
    "duration": 2,
    "start_time": "2025-03-17T04:58:38.738Z"
   },
   {
    "duration": 3,
    "start_time": "2025-03-17T04:58:38.742Z"
   },
   {
    "duration": 9437,
    "start_time": "2025-03-17T04:58:38.747Z"
   },
   {
    "duration": 107,
    "start_time": "2025-03-17T04:58:48.190Z"
   },
   {
    "duration": 69,
    "start_time": "2025-03-17T04:58:48.303Z"
   },
   {
    "duration": 4,
    "start_time": "2025-03-17T04:58:48.379Z"
   },
   {
    "duration": 90,
    "start_time": "2025-03-17T04:58:48.384Z"
   },
   {
    "duration": 2,
    "start_time": "2025-03-17T04:58:48.477Z"
   },
   {
    "duration": 4678,
    "start_time": "2025-03-17T04:58:48.484Z"
   },
   {
    "duration": 80,
    "start_time": "2025-03-17T04:58:53.163Z"
   },
   {
    "duration": 4,
    "start_time": "2025-03-17T04:58:53.245Z"
   },
   {
    "duration": 3,
    "start_time": "2025-03-17T04:58:53.250Z"
   },
   {
    "duration": 9,
    "start_time": "2025-03-17T04:58:53.270Z"
   },
   {
    "duration": 2,
    "start_time": "2025-03-17T04:58:53.281Z"
   },
   {
    "duration": 291915,
    "start_time": "2025-03-17T04:58:53.285Z"
   },
   {
    "duration": 2688,
    "start_time": "2025-03-17T05:03:45.202Z"
   },
   {
    "duration": 3,
    "start_time": "2025-03-17T05:03:47.892Z"
   },
   {
    "duration": 3,
    "start_time": "2025-03-17T05:03:47.897Z"
   },
   {
    "duration": 52,
    "start_time": "2025-03-17T05:03:47.902Z"
   },
   {
    "duration": 13,
    "start_time": "2025-03-17T05:03:47.957Z"
   },
   {
    "duration": 4208,
    "start_time": "2025-03-17T05:03:47.972Z"
   },
   {
    "duration": 497,
    "start_time": "2025-03-17T05:03:52.182Z"
   },
   {
    "duration": 3,
    "start_time": "2025-03-17T05:03:52.681Z"
   },
   {
    "duration": 3,
    "start_time": "2025-03-17T05:03:52.686Z"
   },
   {
    "duration": 79,
    "start_time": "2025-03-17T05:03:52.691Z"
   },
   {
    "duration": 2,
    "start_time": "2025-03-17T05:03:52.772Z"
   },
   {
    "duration": 294341,
    "start_time": "2025-03-17T05:03:52.776Z"
   },
   {
    "duration": 553,
    "start_time": "2025-03-17T05:08:47.119Z"
   },
   {
    "duration": 3,
    "start_time": "2025-03-17T05:08:47.675Z"
   },
   {
    "duration": 4,
    "start_time": "2025-03-17T05:08:47.680Z"
   },
   {
    "duration": 56,
    "start_time": "2025-03-17T05:08:47.685Z"
   },
   {
    "duration": 27,
    "start_time": "2025-03-17T05:08:47.743Z"
   },
   {
    "duration": 25063,
    "start_time": "2025-03-17T05:08:47.771Z"
   },
   {
    "duration": 73,
    "start_time": "2025-03-17T05:09:12.836Z"
   },
   {
    "duration": 3,
    "start_time": "2025-03-17T05:09:12.912Z"
   },
   {
    "duration": 4,
    "start_time": "2025-03-17T05:09:12.917Z"
   },
   {
    "duration": 4,
    "start_time": "2025-03-17T05:09:12.922Z"
   },
   {
    "duration": 4,
    "start_time": "2025-03-17T05:09:12.927Z"
   },
   {
    "duration": 737722,
    "start_time": "2025-03-17T05:09:12.932Z"
   },
   {
    "duration": 3868,
    "start_time": "2025-03-17T05:21:30.655Z"
   },
   {
    "duration": 4,
    "start_time": "2025-03-17T05:21:34.525Z"
   },
   {
    "duration": 4,
    "start_time": "2025-03-17T05:21:34.530Z"
   },
   {
    "duration": 3,
    "start_time": "2025-03-17T05:21:34.536Z"
   },
   {
    "duration": 105,
    "start_time": "2025-03-17T05:21:34.540Z"
   },
   {
    "duration": 3,
    "start_time": "2025-03-17T05:21:34.647Z"
   },
   {
    "duration": 4,
    "start_time": "2025-03-17T05:21:34.652Z"
   },
   {
    "duration": 373,
    "start_time": "2025-03-17T05:21:34.670Z"
   },
   {
    "duration": 3,
    "start_time": "2025-03-17T05:21:35.045Z"
   },
   {
    "duration": 3,
    "start_time": "2025-03-17T05:21:35.050Z"
   },
   {
    "duration": 8,
    "start_time": "2025-03-17T05:21:35.055Z"
   },
   {
    "duration": 3,
    "start_time": "2025-03-17T05:21:35.065Z"
   },
   {
    "duration": 114581,
    "start_time": "2025-03-17T05:21:35.070Z"
   },
   {
    "duration": 3377,
    "start_time": "2025-03-17T05:23:29.653Z"
   },
   {
    "duration": 3,
    "start_time": "2025-03-17T05:23:33.032Z"
   },
   {
    "duration": 5,
    "start_time": "2025-03-17T05:23:33.037Z"
   },
   {
    "duration": 3,
    "start_time": "2025-03-17T05:23:33.043Z"
   },
   {
    "duration": 4,
    "start_time": "2025-03-17T05:23:33.048Z"
   },
   {
    "duration": 29681,
    "start_time": "2025-03-17T05:23:33.070Z"
   },
   {
    "duration": 90,
    "start_time": "2025-03-17T05:24:02.753Z"
   },
   {
    "duration": 3,
    "start_time": "2025-03-17T05:24:02.850Z"
   },
   {
    "duration": 15,
    "start_time": "2025-03-17T05:24:02.854Z"
   }
  ],
  "kernelspec": {
   "display_name": "Python 3 (ipykernel)",
   "language": "python",
   "name": "python3"
  },
  "language_info": {
   "codemirror_mode": {
    "name": "ipython",
    "version": 3
   },
   "file_extension": ".py",
   "mimetype": "text/x-python",
   "name": "python",
   "nbconvert_exporter": "python",
   "pygments_lexer": "ipython3",
   "version": "3.9.19"
  },
  "toc": {
   "base_numbering": 1,
   "nav_menu": {},
   "number_sections": true,
   "sideBar": true,
   "skip_h1_title": true,
   "title_cell": "Table of Contents",
   "title_sidebar": "Contents",
   "toc_cell": false,
   "toc_position": {},
   "toc_section_display": true,
   "toc_window_display": false
  }
 },
 "nbformat": 4,
 "nbformat_minor": 5
}
